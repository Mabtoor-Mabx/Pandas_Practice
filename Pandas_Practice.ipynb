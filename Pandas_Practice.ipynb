{
 "cells": [
  {
   "cell_type": "markdown",
   "id": "57f565d1",
   "metadata": {},
   "source": [
    "# Pandas_Practice"
   ]
  },
  {
   "cell_type": "code",
   "execution_count": 1,
   "id": "9476beb4",
   "metadata": {},
   "outputs": [],
   "source": [
    "import numpy as np\n",
    "import pandas as pd"
   ]
  },
  {
   "cell_type": "code",
   "execution_count": 3,
   "id": "26629f71",
   "metadata": {},
   "outputs": [],
   "source": [
    "dictionery = {\n",
    "    'Name' : ['Mabtoor', 'Zaka', 'Zeeshan', 'Atif', 'Nida', 'Taqveem', 'Mrs Choudary', 'Ijaz_Wani'],\n",
    "    'City' : ['Faisalabad', 'Bahawalpur', 'kuala lumpur', 'Sydney', 'Dubai', 'Jehlum', 'Lahore', 'Austria'],\n",
    "    'Marks' : [21,41,63,73,46,97,54,79],\n",
    "    'Remarks' : ['Good','Nice','Effortless', 'Brilliant', 'Maximum', 'Gracefull', 'Smartless', 'Energetic']\n",
    "}\n"
   ]
  },
  {
   "cell_type": "code",
   "execution_count": 4,
   "id": "67c68721",
   "metadata": {},
   "outputs": [
    {
     "data": {
      "text/plain": [
       "{'Name': ['Mabtoor',\n",
       "  'Zaka',\n",
       "  'Zeeshan',\n",
       "  'Atif',\n",
       "  'Nida',\n",
       "  'Taqveem',\n",
       "  'Mrs Choudary',\n",
       "  'Ijaz_Wani'],\n",
       " 'City': ['Faisalabad',\n",
       "  'Bahawalpur',\n",
       "  'kuala lumpur',\n",
       "  'Sydney',\n",
       "  'Dubai',\n",
       "  'Jehlum',\n",
       "  'Lahore',\n",
       "  'Austria'],\n",
       " 'Marks': [21, 41, 63, 73, 46, 97, 54, 79],\n",
       " 'Remarks': ['Good',\n",
       "  'Nice',\n",
       "  'Effortless',\n",
       "  'Brilliant',\n",
       "  'Maximum',\n",
       "  'Gracefull',\n",
       "  'Smartless',\n",
       "  'Energetic']}"
      ]
     },
     "execution_count": 4,
     "metadata": {},
     "output_type": "execute_result"
    }
   ],
   "source": [
    "dictionery"
   ]
  },
  {
   "cell_type": "code",
   "execution_count": 5,
   "id": "a0a594e1",
   "metadata": {},
   "outputs": [],
   "source": [
    "df= pd.DataFrame(dictionery)"
   ]
  },
  {
   "cell_type": "code",
   "execution_count": 6,
   "id": "a1f652f2",
   "metadata": {},
   "outputs": [
    {
     "data": {
      "text/html": [
       "<div>\n",
       "<style scoped>\n",
       "    .dataframe tbody tr th:only-of-type {\n",
       "        vertical-align: middle;\n",
       "    }\n",
       "\n",
       "    .dataframe tbody tr th {\n",
       "        vertical-align: top;\n",
       "    }\n",
       "\n",
       "    .dataframe thead th {\n",
       "        text-align: right;\n",
       "    }\n",
       "</style>\n",
       "<table border=\"1\" class=\"dataframe\">\n",
       "  <thead>\n",
       "    <tr style=\"text-align: right;\">\n",
       "      <th></th>\n",
       "      <th>Name</th>\n",
       "      <th>City</th>\n",
       "      <th>Marks</th>\n",
       "      <th>Remarks</th>\n",
       "    </tr>\n",
       "  </thead>\n",
       "  <tbody>\n",
       "    <tr>\n",
       "      <th>0</th>\n",
       "      <td>Mabtoor</td>\n",
       "      <td>Faisalabad</td>\n",
       "      <td>21</td>\n",
       "      <td>Good</td>\n",
       "    </tr>\n",
       "    <tr>\n",
       "      <th>1</th>\n",
       "      <td>Zaka</td>\n",
       "      <td>Bahawalpur</td>\n",
       "      <td>41</td>\n",
       "      <td>Nice</td>\n",
       "    </tr>\n",
       "    <tr>\n",
       "      <th>2</th>\n",
       "      <td>Zeeshan</td>\n",
       "      <td>kuala lumpur</td>\n",
       "      <td>63</td>\n",
       "      <td>Effortless</td>\n",
       "    </tr>\n",
       "    <tr>\n",
       "      <th>3</th>\n",
       "      <td>Atif</td>\n",
       "      <td>Sydney</td>\n",
       "      <td>73</td>\n",
       "      <td>Brilliant</td>\n",
       "    </tr>\n",
       "    <tr>\n",
       "      <th>4</th>\n",
       "      <td>Nida</td>\n",
       "      <td>Dubai</td>\n",
       "      <td>46</td>\n",
       "      <td>Maximum</td>\n",
       "    </tr>\n",
       "    <tr>\n",
       "      <th>5</th>\n",
       "      <td>Taqveem</td>\n",
       "      <td>Jehlum</td>\n",
       "      <td>97</td>\n",
       "      <td>Gracefull</td>\n",
       "    </tr>\n",
       "    <tr>\n",
       "      <th>6</th>\n",
       "      <td>Mrs Choudary</td>\n",
       "      <td>Lahore</td>\n",
       "      <td>54</td>\n",
       "      <td>Smartless</td>\n",
       "    </tr>\n",
       "    <tr>\n",
       "      <th>7</th>\n",
       "      <td>Ijaz_Wani</td>\n",
       "      <td>Austria</td>\n",
       "      <td>79</td>\n",
       "      <td>Energetic</td>\n",
       "    </tr>\n",
       "  </tbody>\n",
       "</table>\n",
       "</div>"
      ],
      "text/plain": [
       "           Name          City  Marks     Remarks\n",
       "0       Mabtoor    Faisalabad     21        Good\n",
       "1          Zaka    Bahawalpur     41        Nice\n",
       "2       Zeeshan  kuala lumpur     63  Effortless\n",
       "3          Atif        Sydney     73   Brilliant\n",
       "4          Nida         Dubai     46     Maximum\n",
       "5       Taqveem        Jehlum     97   Gracefull\n",
       "6  Mrs Choudary        Lahore     54   Smartless\n",
       "7     Ijaz_Wani       Austria     79   Energetic"
      ]
     },
     "execution_count": 6,
     "metadata": {},
     "output_type": "execute_result"
    }
   ],
   "source": [
    "df"
   ]
  },
  {
   "cell_type": "code",
   "execution_count": 7,
   "id": "4dbbfa19",
   "metadata": {},
   "outputs": [],
   "source": [
    "df.to_csv('Information.csv')"
   ]
  },
  {
   "cell_type": "code",
   "execution_count": 8,
   "id": "43a120b8",
   "metadata": {},
   "outputs": [],
   "source": [
    "df.to_csv('Information_Without_Indices.csv')"
   ]
  },
  {
   "cell_type": "code",
   "execution_count": 9,
   "id": "33a38555",
   "metadata": {},
   "outputs": [
    {
     "data": {
      "text/html": [
       "<div>\n",
       "<style scoped>\n",
       "    .dataframe tbody tr th:only-of-type {\n",
       "        vertical-align: middle;\n",
       "    }\n",
       "\n",
       "    .dataframe tbody tr th {\n",
       "        vertical-align: top;\n",
       "    }\n",
       "\n",
       "    .dataframe thead th {\n",
       "        text-align: right;\n",
       "    }\n",
       "</style>\n",
       "<table border=\"1\" class=\"dataframe\">\n",
       "  <thead>\n",
       "    <tr style=\"text-align: right;\">\n",
       "      <th></th>\n",
       "      <th>Name</th>\n",
       "      <th>City</th>\n",
       "      <th>Marks</th>\n",
       "      <th>Remarks</th>\n",
       "    </tr>\n",
       "  </thead>\n",
       "  <tbody>\n",
       "    <tr>\n",
       "      <th>0</th>\n",
       "      <td>Mabtoor</td>\n",
       "      <td>Faisalabad</td>\n",
       "      <td>21</td>\n",
       "      <td>Good</td>\n",
       "    </tr>\n",
       "    <tr>\n",
       "      <th>1</th>\n",
       "      <td>Zaka</td>\n",
       "      <td>Bahawalpur</td>\n",
       "      <td>41</td>\n",
       "      <td>Nice</td>\n",
       "    </tr>\n",
       "    <tr>\n",
       "      <th>2</th>\n",
       "      <td>Zeeshan</td>\n",
       "      <td>kuala lumpur</td>\n",
       "      <td>63</td>\n",
       "      <td>Effortless</td>\n",
       "    </tr>\n",
       "    <tr>\n",
       "      <th>3</th>\n",
       "      <td>Atif</td>\n",
       "      <td>Sydney</td>\n",
       "      <td>73</td>\n",
       "      <td>Brilliant</td>\n",
       "    </tr>\n",
       "    <tr>\n",
       "      <th>4</th>\n",
       "      <td>Nida</td>\n",
       "      <td>Dubai</td>\n",
       "      <td>46</td>\n",
       "      <td>Maximum</td>\n",
       "    </tr>\n",
       "    <tr>\n",
       "      <th>5</th>\n",
       "      <td>Taqveem</td>\n",
       "      <td>Jehlum</td>\n",
       "      <td>97</td>\n",
       "      <td>Gracefull</td>\n",
       "    </tr>\n",
       "    <tr>\n",
       "      <th>6</th>\n",
       "      <td>Mrs Choudary</td>\n",
       "      <td>Lahore</td>\n",
       "      <td>54</td>\n",
       "      <td>Smartless</td>\n",
       "    </tr>\n",
       "    <tr>\n",
       "      <th>7</th>\n",
       "      <td>Ijaz_Wani</td>\n",
       "      <td>Austria</td>\n",
       "      <td>79</td>\n",
       "      <td>Energetic</td>\n",
       "    </tr>\n",
       "  </tbody>\n",
       "</table>\n",
       "</div>"
      ],
      "text/plain": [
       "           Name          City  Marks     Remarks\n",
       "0       Mabtoor    Faisalabad     21        Good\n",
       "1          Zaka    Bahawalpur     41        Nice\n",
       "2       Zeeshan  kuala lumpur     63  Effortless\n",
       "3          Atif        Sydney     73   Brilliant\n",
       "4          Nida         Dubai     46     Maximum\n",
       "5       Taqveem        Jehlum     97   Gracefull\n",
       "6  Mrs Choudary        Lahore     54   Smartless\n",
       "7     Ijaz_Wani       Austria     79   Energetic"
      ]
     },
     "execution_count": 9,
     "metadata": {},
     "output_type": "execute_result"
    }
   ],
   "source": [
    "df"
   ]
  },
  {
   "cell_type": "code",
   "execution_count": 10,
   "id": "de5f87ec",
   "metadata": {},
   "outputs": [
    {
     "data": {
      "text/html": [
       "<div>\n",
       "<style scoped>\n",
       "    .dataframe tbody tr th:only-of-type {\n",
       "        vertical-align: middle;\n",
       "    }\n",
       "\n",
       "    .dataframe tbody tr th {\n",
       "        vertical-align: top;\n",
       "    }\n",
       "\n",
       "    .dataframe thead th {\n",
       "        text-align: right;\n",
       "    }\n",
       "</style>\n",
       "<table border=\"1\" class=\"dataframe\">\n",
       "  <thead>\n",
       "    <tr style=\"text-align: right;\">\n",
       "      <th></th>\n",
       "      <th>Name</th>\n",
       "      <th>City</th>\n",
       "      <th>Marks</th>\n",
       "      <th>Remarks</th>\n",
       "    </tr>\n",
       "  </thead>\n",
       "  <tbody>\n",
       "    <tr>\n",
       "      <th>0</th>\n",
       "      <td>Mabtoor</td>\n",
       "      <td>Faisalabad</td>\n",
       "      <td>21</td>\n",
       "      <td>Good</td>\n",
       "    </tr>\n",
       "    <tr>\n",
       "      <th>1</th>\n",
       "      <td>Zaka</td>\n",
       "      <td>Bahawalpur</td>\n",
       "      <td>41</td>\n",
       "      <td>Nice</td>\n",
       "    </tr>\n",
       "    <tr>\n",
       "      <th>2</th>\n",
       "      <td>Zeeshan</td>\n",
       "      <td>kuala lumpur</td>\n",
       "      <td>63</td>\n",
       "      <td>Effortless</td>\n",
       "    </tr>\n",
       "    <tr>\n",
       "      <th>3</th>\n",
       "      <td>Atif</td>\n",
       "      <td>Sydney</td>\n",
       "      <td>73</td>\n",
       "      <td>Brilliant</td>\n",
       "    </tr>\n",
       "    <tr>\n",
       "      <th>4</th>\n",
       "      <td>Nida</td>\n",
       "      <td>Dubai</td>\n",
       "      <td>46</td>\n",
       "      <td>Maximum</td>\n",
       "    </tr>\n",
       "  </tbody>\n",
       "</table>\n",
       "</div>"
      ],
      "text/plain": [
       "      Name          City  Marks     Remarks\n",
       "0  Mabtoor    Faisalabad     21        Good\n",
       "1     Zaka    Bahawalpur     41        Nice\n",
       "2  Zeeshan  kuala lumpur     63  Effortless\n",
       "3     Atif        Sydney     73   Brilliant\n",
       "4     Nida         Dubai     46     Maximum"
      ]
     },
     "execution_count": 10,
     "metadata": {},
     "output_type": "execute_result"
    }
   ],
   "source": [
    "df.head()"
   ]
  },
  {
   "cell_type": "code",
   "execution_count": 11,
   "id": "3497ecfd",
   "metadata": {},
   "outputs": [
    {
     "data": {
      "text/html": [
       "<div>\n",
       "<style scoped>\n",
       "    .dataframe tbody tr th:only-of-type {\n",
       "        vertical-align: middle;\n",
       "    }\n",
       "\n",
       "    .dataframe tbody tr th {\n",
       "        vertical-align: top;\n",
       "    }\n",
       "\n",
       "    .dataframe thead th {\n",
       "        text-align: right;\n",
       "    }\n",
       "</style>\n",
       "<table border=\"1\" class=\"dataframe\">\n",
       "  <thead>\n",
       "    <tr style=\"text-align: right;\">\n",
       "      <th></th>\n",
       "      <th>Name</th>\n",
       "      <th>City</th>\n",
       "      <th>Marks</th>\n",
       "      <th>Remarks</th>\n",
       "    </tr>\n",
       "  </thead>\n",
       "  <tbody>\n",
       "    <tr>\n",
       "      <th>3</th>\n",
       "      <td>Atif</td>\n",
       "      <td>Sydney</td>\n",
       "      <td>73</td>\n",
       "      <td>Brilliant</td>\n",
       "    </tr>\n",
       "    <tr>\n",
       "      <th>4</th>\n",
       "      <td>Nida</td>\n",
       "      <td>Dubai</td>\n",
       "      <td>46</td>\n",
       "      <td>Maximum</td>\n",
       "    </tr>\n",
       "    <tr>\n",
       "      <th>5</th>\n",
       "      <td>Taqveem</td>\n",
       "      <td>Jehlum</td>\n",
       "      <td>97</td>\n",
       "      <td>Gracefull</td>\n",
       "    </tr>\n",
       "    <tr>\n",
       "      <th>6</th>\n",
       "      <td>Mrs Choudary</td>\n",
       "      <td>Lahore</td>\n",
       "      <td>54</td>\n",
       "      <td>Smartless</td>\n",
       "    </tr>\n",
       "    <tr>\n",
       "      <th>7</th>\n",
       "      <td>Ijaz_Wani</td>\n",
       "      <td>Austria</td>\n",
       "      <td>79</td>\n",
       "      <td>Energetic</td>\n",
       "    </tr>\n",
       "  </tbody>\n",
       "</table>\n",
       "</div>"
      ],
      "text/plain": [
       "           Name     City  Marks    Remarks\n",
       "3          Atif   Sydney     73  Brilliant\n",
       "4          Nida    Dubai     46    Maximum\n",
       "5       Taqveem   Jehlum     97  Gracefull\n",
       "6  Mrs Choudary   Lahore     54  Smartless\n",
       "7     Ijaz_Wani  Austria     79  Energetic"
      ]
     },
     "execution_count": 11,
     "metadata": {},
     "output_type": "execute_result"
    }
   ],
   "source": [
    "df.tail()"
   ]
  },
  {
   "cell_type": "code",
   "execution_count": 12,
   "id": "b3168111",
   "metadata": {},
   "outputs": [
    {
     "data": {
      "text/html": [
       "<div>\n",
       "<style scoped>\n",
       "    .dataframe tbody tr th:only-of-type {\n",
       "        vertical-align: middle;\n",
       "    }\n",
       "\n",
       "    .dataframe tbody tr th {\n",
       "        vertical-align: top;\n",
       "    }\n",
       "\n",
       "    .dataframe thead th {\n",
       "        text-align: right;\n",
       "    }\n",
       "</style>\n",
       "<table border=\"1\" class=\"dataframe\">\n",
       "  <thead>\n",
       "    <tr style=\"text-align: right;\">\n",
       "      <th></th>\n",
       "      <th>Name</th>\n",
       "      <th>City</th>\n",
       "      <th>Marks</th>\n",
       "      <th>Remarks</th>\n",
       "    </tr>\n",
       "  </thead>\n",
       "  <tbody>\n",
       "    <tr>\n",
       "      <th>0</th>\n",
       "      <td>Mabtoor</td>\n",
       "      <td>Faisalabad</td>\n",
       "      <td>21</td>\n",
       "      <td>Good</td>\n",
       "    </tr>\n",
       "    <tr>\n",
       "      <th>1</th>\n",
       "      <td>Zaka</td>\n",
       "      <td>Bahawalpur</td>\n",
       "      <td>41</td>\n",
       "      <td>Nice</td>\n",
       "    </tr>\n",
       "  </tbody>\n",
       "</table>\n",
       "</div>"
      ],
      "text/plain": [
       "      Name        City  Marks Remarks\n",
       "0  Mabtoor  Faisalabad     21    Good\n",
       "1     Zaka  Bahawalpur     41    Nice"
      ]
     },
     "execution_count": 12,
     "metadata": {},
     "output_type": "execute_result"
    }
   ],
   "source": [
    "df.head(2)"
   ]
  },
  {
   "cell_type": "code",
   "execution_count": 13,
   "id": "784e0b96",
   "metadata": {},
   "outputs": [
    {
     "data": {
      "text/html": [
       "<div>\n",
       "<style scoped>\n",
       "    .dataframe tbody tr th:only-of-type {\n",
       "        vertical-align: middle;\n",
       "    }\n",
       "\n",
       "    .dataframe tbody tr th {\n",
       "        vertical-align: top;\n",
       "    }\n",
       "\n",
       "    .dataframe thead th {\n",
       "        text-align: right;\n",
       "    }\n",
       "</style>\n",
       "<table border=\"1\" class=\"dataframe\">\n",
       "  <thead>\n",
       "    <tr style=\"text-align: right;\">\n",
       "      <th></th>\n",
       "      <th>Name</th>\n",
       "      <th>City</th>\n",
       "      <th>Marks</th>\n",
       "      <th>Remarks</th>\n",
       "    </tr>\n",
       "  </thead>\n",
       "  <tbody>\n",
       "    <tr>\n",
       "      <th>6</th>\n",
       "      <td>Mrs Choudary</td>\n",
       "      <td>Lahore</td>\n",
       "      <td>54</td>\n",
       "      <td>Smartless</td>\n",
       "    </tr>\n",
       "    <tr>\n",
       "      <th>7</th>\n",
       "      <td>Ijaz_Wani</td>\n",
       "      <td>Austria</td>\n",
       "      <td>79</td>\n",
       "      <td>Energetic</td>\n",
       "    </tr>\n",
       "  </tbody>\n",
       "</table>\n",
       "</div>"
      ],
      "text/plain": [
       "           Name     City  Marks    Remarks\n",
       "6  Mrs Choudary   Lahore     54  Smartless\n",
       "7     Ijaz_Wani  Austria     79  Energetic"
      ]
     },
     "execution_count": 13,
     "metadata": {},
     "output_type": "execute_result"
    }
   ],
   "source": [
    "df.tail(2)"
   ]
  },
  {
   "cell_type": "code",
   "execution_count": 15,
   "id": "fce86990",
   "metadata": {},
   "outputs": [
    {
     "data": {
      "text/plain": [
       "RangeIndex(start=0, stop=8, step=1)"
      ]
     },
     "execution_count": 15,
     "metadata": {},
     "output_type": "execute_result"
    }
   ],
   "source": [
    "df.index"
   ]
  },
  {
   "cell_type": "code",
   "execution_count": 16,
   "id": "7d61e9ce",
   "metadata": {},
   "outputs": [
    {
     "data": {
      "text/plain": [
       "Index(['Name', 'City', 'Marks', 'Remarks'], dtype='object')"
      ]
     },
     "execution_count": 16,
     "metadata": {},
     "output_type": "execute_result"
    }
   ],
   "source": [
    "df.columns"
   ]
  },
  {
   "cell_type": "code",
   "execution_count": 20,
   "id": "cea8225c",
   "metadata": {},
   "outputs": [],
   "source": [
    "friends = pd.read_csv('Personal_Friends.csv')"
   ]
  },
  {
   "cell_type": "code",
   "execution_count": 21,
   "id": "f64bbb20",
   "metadata": {},
   "outputs": [
    {
     "data": {
      "text/html": [
       "<div>\n",
       "<style scoped>\n",
       "    .dataframe tbody tr th:only-of-type {\n",
       "        vertical-align: middle;\n",
       "    }\n",
       "\n",
       "    .dataframe tbody tr th {\n",
       "        vertical-align: top;\n",
       "    }\n",
       "\n",
       "    .dataframe thead th {\n",
       "        text-align: right;\n",
       "    }\n",
       "</style>\n",
       "<table border=\"1\" class=\"dataframe\">\n",
       "  <thead>\n",
       "    <tr style=\"text-align: right;\">\n",
       "      <th></th>\n",
       "      <th>Unnamed: 0</th>\n",
       "      <th>TrainNo</th>\n",
       "      <th>SeatNo</th>\n",
       "      <th>PassangersName</th>\n",
       "      <th>Destinations</th>\n",
       "    </tr>\n",
       "  </thead>\n",
       "  <tbody>\n",
       "    <tr>\n",
       "      <th>0</th>\n",
       "      <td>0</td>\n",
       "      <td>43</td>\n",
       "      <td>54</td>\n",
       "      <td>Zeeshan</td>\n",
       "      <td>Malaysia</td>\n",
       "    </tr>\n",
       "    <tr>\n",
       "      <th>1</th>\n",
       "      <td>1</td>\n",
       "      <td>65</td>\n",
       "      <td>63</td>\n",
       "      <td>Atif</td>\n",
       "      <td>Sydney</td>\n",
       "    </tr>\n",
       "    <tr>\n",
       "      <th>2</th>\n",
       "      <td>2</td>\n",
       "      <td>74</td>\n",
       "      <td>54</td>\n",
       "      <td>Zaka</td>\n",
       "      <td>Bahawalpur</td>\n",
       "    </tr>\n",
       "    <tr>\n",
       "      <th>3</th>\n",
       "      <td>3</td>\n",
       "      <td>85</td>\n",
       "      <td>63</td>\n",
       "      <td>Umar</td>\n",
       "      <td>Faisalabad</td>\n",
       "    </tr>\n",
       "    <tr>\n",
       "      <th>4</th>\n",
       "      <td>4</td>\n",
       "      <td>24</td>\n",
       "      <td>45</td>\n",
       "      <td>taqveem</td>\n",
       "      <td>Jehlum</td>\n",
       "    </tr>\n",
       "    <tr>\n",
       "      <th>5</th>\n",
       "      <td>5</td>\n",
       "      <td>64</td>\n",
       "      <td>46</td>\n",
       "      <td>Mrs.Choudary</td>\n",
       "      <td>Lahore</td>\n",
       "    </tr>\n",
       "    <tr>\n",
       "      <th>6</th>\n",
       "      <td>6</td>\n",
       "      <td>73</td>\n",
       "      <td>46</td>\n",
       "      <td>Umer Yaqoob</td>\n",
       "      <td>Faisalabad</td>\n",
       "    </tr>\n",
       "  </tbody>\n",
       "</table>\n",
       "</div>"
      ],
      "text/plain": [
       "   Unnamed: 0  TrainNo  SeatNo PassangersName Destinations\n",
       "0           0       43      54        Zeeshan     Malaysia\n",
       "1           1       65      63           Atif       Sydney\n",
       "2           2       74      54           Zaka   Bahawalpur\n",
       "3           3       85      63           Umar   Faisalabad\n",
       "4           4       24      45        taqveem       Jehlum\n",
       "5           5       64      46   Mrs.Choudary       Lahore\n",
       "6           6       73      46    Umer Yaqoob   Faisalabad"
      ]
     },
     "execution_count": 21,
     "metadata": {},
     "output_type": "execute_result"
    }
   ],
   "source": [
    "friends"
   ]
  },
  {
   "cell_type": "code",
   "execution_count": 22,
   "id": "b8e87e77",
   "metadata": {},
   "outputs": [
    {
     "data": {
      "text/plain": [
       "0    43\n",
       "1    65\n",
       "2    74\n",
       "3    85\n",
       "4    24\n",
       "5    64\n",
       "6    73\n",
       "Name: TrainNo, dtype: int64"
      ]
     },
     "execution_count": 22,
     "metadata": {},
     "output_type": "execute_result"
    }
   ],
   "source": [
    "friends['TrainNo']"
   ]
  },
  {
   "cell_type": "code",
   "execution_count": 23,
   "id": "01f234d2",
   "metadata": {},
   "outputs": [
    {
     "data": {
      "text/plain": [
       "RangeIndex(start=0, stop=7, step=1)"
      ]
     },
     "execution_count": 23,
     "metadata": {},
     "output_type": "execute_result"
    }
   ],
   "source": [
    "friends.index"
   ]
  },
  {
   "cell_type": "code",
   "execution_count": 24,
   "id": "2a246266",
   "metadata": {},
   "outputs": [
    {
     "data": {
      "text/plain": [
       "Index(['Unnamed: 0', 'TrainNo', 'SeatNo', 'PassangersName', 'Destinations'], dtype='object')"
      ]
     },
     "execution_count": 24,
     "metadata": {},
     "output_type": "execute_result"
    }
   ],
   "source": [
    "friends.columns"
   ]
  },
  {
   "cell_type": "code",
   "execution_count": 25,
   "id": "c65340c8",
   "metadata": {},
   "outputs": [
    {
     "data": {
      "text/html": [
       "<div>\n",
       "<style scoped>\n",
       "    .dataframe tbody tr th:only-of-type {\n",
       "        vertical-align: middle;\n",
       "    }\n",
       "\n",
       "    .dataframe tbody tr th {\n",
       "        vertical-align: top;\n",
       "    }\n",
       "\n",
       "    .dataframe thead th {\n",
       "        text-align: right;\n",
       "    }\n",
       "</style>\n",
       "<table border=\"1\" class=\"dataframe\">\n",
       "  <thead>\n",
       "    <tr style=\"text-align: right;\">\n",
       "      <th></th>\n",
       "      <th>Unnamed: 0</th>\n",
       "      <th>TrainNo</th>\n",
       "      <th>SeatNo</th>\n",
       "      <th>PassangersName</th>\n",
       "      <th>Destinations</th>\n",
       "    </tr>\n",
       "  </thead>\n",
       "  <tbody>\n",
       "    <tr>\n",
       "      <th>0</th>\n",
       "      <td>0</td>\n",
       "      <td>43</td>\n",
       "      <td>54</td>\n",
       "      <td>Zeeshan</td>\n",
       "      <td>Malaysia</td>\n",
       "    </tr>\n",
       "    <tr>\n",
       "      <th>1</th>\n",
       "      <td>1</td>\n",
       "      <td>65</td>\n",
       "      <td>63</td>\n",
       "      <td>Atif</td>\n",
       "      <td>Sydney</td>\n",
       "    </tr>\n",
       "  </tbody>\n",
       "</table>\n",
       "</div>"
      ],
      "text/plain": [
       "   Unnamed: 0  TrainNo  SeatNo PassangersName Destinations\n",
       "0           0       43      54        Zeeshan     Malaysia\n",
       "1           1       65      63           Atif       Sydney"
      ]
     },
     "execution_count": 25,
     "metadata": {},
     "output_type": "execute_result"
    }
   ],
   "source": [
    "friends.head(2)"
   ]
  },
  {
   "cell_type": "code",
   "execution_count": 26,
   "id": "334db8fd",
   "metadata": {},
   "outputs": [
    {
     "data": {
      "text/html": [
       "<div>\n",
       "<style scoped>\n",
       "    .dataframe tbody tr th:only-of-type {\n",
       "        vertical-align: middle;\n",
       "    }\n",
       "\n",
       "    .dataframe tbody tr th {\n",
       "        vertical-align: top;\n",
       "    }\n",
       "\n",
       "    .dataframe thead th {\n",
       "        text-align: right;\n",
       "    }\n",
       "</style>\n",
       "<table border=\"1\" class=\"dataframe\">\n",
       "  <thead>\n",
       "    <tr style=\"text-align: right;\">\n",
       "      <th></th>\n",
       "      <th>Unnamed: 0</th>\n",
       "      <th>TrainNo</th>\n",
       "      <th>SeatNo</th>\n",
       "      <th>PassangersName</th>\n",
       "      <th>Destinations</th>\n",
       "    </tr>\n",
       "  </thead>\n",
       "  <tbody>\n",
       "    <tr>\n",
       "      <th>5</th>\n",
       "      <td>5</td>\n",
       "      <td>64</td>\n",
       "      <td>46</td>\n",
       "      <td>Mrs.Choudary</td>\n",
       "      <td>Lahore</td>\n",
       "    </tr>\n",
       "    <tr>\n",
       "      <th>6</th>\n",
       "      <td>6</td>\n",
       "      <td>73</td>\n",
       "      <td>46</td>\n",
       "      <td>Umer Yaqoob</td>\n",
       "      <td>Faisalabad</td>\n",
       "    </tr>\n",
       "  </tbody>\n",
       "</table>\n",
       "</div>"
      ],
      "text/plain": [
       "   Unnamed: 0  TrainNo  SeatNo PassangersName Destinations\n",
       "5           5       64      46   Mrs.Choudary       Lahore\n",
       "6           6       73      46    Umer Yaqoob   Faisalabad"
      ]
     },
     "execution_count": 26,
     "metadata": {},
     "output_type": "execute_result"
    }
   ],
   "source": [
    "friends.tail(2)"
   ]
  },
  {
   "cell_type": "code",
   "execution_count": 27,
   "id": "9233f74a",
   "metadata": {},
   "outputs": [
    {
     "name": "stderr",
     "output_type": "stream",
     "text": [
      "<ipython-input-27-944bec2fbbac>:1: SettingWithCopyWarning: \n",
      "A value is trying to be set on a copy of a slice from a DataFrame\n",
      "\n",
      "See the caveats in the documentation: https://pandas.pydata.org/pandas-docs/stable/user_guide/indexing.html#returning-a-view-versus-a-copy\n",
      "  friends['SeatNo'][5] = 52\n"
     ]
    }
   ],
   "source": [
    "friends['SeatNo'][5] = 52"
   ]
  },
  {
   "cell_type": "code",
   "execution_count": 28,
   "id": "f55c3c97",
   "metadata": {},
   "outputs": [
    {
     "data": {
      "text/html": [
       "<div>\n",
       "<style scoped>\n",
       "    .dataframe tbody tr th:only-of-type {\n",
       "        vertical-align: middle;\n",
       "    }\n",
       "\n",
       "    .dataframe tbody tr th {\n",
       "        vertical-align: top;\n",
       "    }\n",
       "\n",
       "    .dataframe thead th {\n",
       "        text-align: right;\n",
       "    }\n",
       "</style>\n",
       "<table border=\"1\" class=\"dataframe\">\n",
       "  <thead>\n",
       "    <tr style=\"text-align: right;\">\n",
       "      <th></th>\n",
       "      <th>Unnamed: 0</th>\n",
       "      <th>TrainNo</th>\n",
       "      <th>SeatNo</th>\n",
       "      <th>PassangersName</th>\n",
       "      <th>Destinations</th>\n",
       "    </tr>\n",
       "  </thead>\n",
       "  <tbody>\n",
       "    <tr>\n",
       "      <th>0</th>\n",
       "      <td>0</td>\n",
       "      <td>43</td>\n",
       "      <td>54</td>\n",
       "      <td>Zeeshan</td>\n",
       "      <td>Malaysia</td>\n",
       "    </tr>\n",
       "    <tr>\n",
       "      <th>1</th>\n",
       "      <td>1</td>\n",
       "      <td>65</td>\n",
       "      <td>63</td>\n",
       "      <td>Atif</td>\n",
       "      <td>Sydney</td>\n",
       "    </tr>\n",
       "    <tr>\n",
       "      <th>2</th>\n",
       "      <td>2</td>\n",
       "      <td>74</td>\n",
       "      <td>54</td>\n",
       "      <td>Zaka</td>\n",
       "      <td>Bahawalpur</td>\n",
       "    </tr>\n",
       "    <tr>\n",
       "      <th>3</th>\n",
       "      <td>3</td>\n",
       "      <td>85</td>\n",
       "      <td>63</td>\n",
       "      <td>Umar</td>\n",
       "      <td>Faisalabad</td>\n",
       "    </tr>\n",
       "    <tr>\n",
       "      <th>4</th>\n",
       "      <td>4</td>\n",
       "      <td>24</td>\n",
       "      <td>45</td>\n",
       "      <td>taqveem</td>\n",
       "      <td>Jehlum</td>\n",
       "    </tr>\n",
       "    <tr>\n",
       "      <th>5</th>\n",
       "      <td>5</td>\n",
       "      <td>64</td>\n",
       "      <td>52</td>\n",
       "      <td>Mrs.Choudary</td>\n",
       "      <td>Lahore</td>\n",
       "    </tr>\n",
       "    <tr>\n",
       "      <th>6</th>\n",
       "      <td>6</td>\n",
       "      <td>73</td>\n",
       "      <td>46</td>\n",
       "      <td>Umer Yaqoob</td>\n",
       "      <td>Faisalabad</td>\n",
       "    </tr>\n",
       "  </tbody>\n",
       "</table>\n",
       "</div>"
      ],
      "text/plain": [
       "   Unnamed: 0  TrainNo  SeatNo PassangersName Destinations\n",
       "0           0       43      54        Zeeshan     Malaysia\n",
       "1           1       65      63           Atif       Sydney\n",
       "2           2       74      54           Zaka   Bahawalpur\n",
       "3           3       85      63           Umar   Faisalabad\n",
       "4           4       24      45        taqveem       Jehlum\n",
       "5           5       64      52   Mrs.Choudary       Lahore\n",
       "6           6       73      46    Umer Yaqoob   Faisalabad"
      ]
     },
     "execution_count": 28,
     "metadata": {},
     "output_type": "execute_result"
    }
   ],
   "source": [
    "friends"
   ]
  },
  {
   "cell_type": "code",
   "execution_count": 29,
   "id": "efc9d527",
   "metadata": {},
   "outputs": [],
   "source": [
    "ser = pd.Series(np.random.randint(2,4))"
   ]
  },
  {
   "cell_type": "code",
   "execution_count": 30,
   "id": "cf6a24f6",
   "metadata": {},
   "outputs": [
    {
     "data": {
      "text/plain": [
       "0    2\n",
       "dtype: int64"
      ]
     },
     "execution_count": 30,
     "metadata": {},
     "output_type": "execute_result"
    }
   ],
   "source": [
    "ser"
   ]
  },
  {
   "cell_type": "code",
   "execution_count": 31,
   "id": "2bf0f588",
   "metadata": {},
   "outputs": [
    {
     "data": {
      "text/plain": [
       "pandas.core.series.Series"
      ]
     },
     "execution_count": 31,
     "metadata": {},
     "output_type": "execute_result"
    }
   ],
   "source": [
    "type(ser)"
   ]
  },
  {
   "cell_type": "code",
   "execution_count": 34,
   "id": "b97dbc81",
   "metadata": {},
   "outputs": [],
   "source": [
    "newdf = pd.DataFrame(np.random.rand(443,4), index=np.arange(443))"
   ]
  },
  {
   "cell_type": "code",
   "execution_count": 35,
   "id": "4b5b8554",
   "metadata": {},
   "outputs": [
    {
     "data": {
      "text/html": [
       "<div>\n",
       "<style scoped>\n",
       "    .dataframe tbody tr th:only-of-type {\n",
       "        vertical-align: middle;\n",
       "    }\n",
       "\n",
       "    .dataframe tbody tr th {\n",
       "        vertical-align: top;\n",
       "    }\n",
       "\n",
       "    .dataframe thead th {\n",
       "        text-align: right;\n",
       "    }\n",
       "</style>\n",
       "<table border=\"1\" class=\"dataframe\">\n",
       "  <thead>\n",
       "    <tr style=\"text-align: right;\">\n",
       "      <th></th>\n",
       "      <th>0</th>\n",
       "      <th>1</th>\n",
       "      <th>2</th>\n",
       "      <th>3</th>\n",
       "    </tr>\n",
       "  </thead>\n",
       "  <tbody>\n",
       "    <tr>\n",
       "      <th>0</th>\n",
       "      <td>0.254917</td>\n",
       "      <td>0.787095</td>\n",
       "      <td>0.239088</td>\n",
       "      <td>0.284318</td>\n",
       "    </tr>\n",
       "    <tr>\n",
       "      <th>1</th>\n",
       "      <td>0.245963</td>\n",
       "      <td>0.972372</td>\n",
       "      <td>0.933101</td>\n",
       "      <td>0.914154</td>\n",
       "    </tr>\n",
       "    <tr>\n",
       "      <th>2</th>\n",
       "      <td>0.962912</td>\n",
       "      <td>0.445243</td>\n",
       "      <td>0.936070</td>\n",
       "      <td>0.917919</td>\n",
       "    </tr>\n",
       "    <tr>\n",
       "      <th>3</th>\n",
       "      <td>0.912417</td>\n",
       "      <td>0.972347</td>\n",
       "      <td>0.861084</td>\n",
       "      <td>0.018245</td>\n",
       "    </tr>\n",
       "    <tr>\n",
       "      <th>4</th>\n",
       "      <td>0.711203</td>\n",
       "      <td>0.549370</td>\n",
       "      <td>0.814258</td>\n",
       "      <td>0.827685</td>\n",
       "    </tr>\n",
       "    <tr>\n",
       "      <th>...</th>\n",
       "      <td>...</td>\n",
       "      <td>...</td>\n",
       "      <td>...</td>\n",
       "      <td>...</td>\n",
       "    </tr>\n",
       "    <tr>\n",
       "      <th>438</th>\n",
       "      <td>0.920939</td>\n",
       "      <td>0.416649</td>\n",
       "      <td>0.847789</td>\n",
       "      <td>0.385309</td>\n",
       "    </tr>\n",
       "    <tr>\n",
       "      <th>439</th>\n",
       "      <td>0.407680</td>\n",
       "      <td>0.336233</td>\n",
       "      <td>0.102381</td>\n",
       "      <td>0.232752</td>\n",
       "    </tr>\n",
       "    <tr>\n",
       "      <th>440</th>\n",
       "      <td>0.641310</td>\n",
       "      <td>0.869629</td>\n",
       "      <td>0.448268</td>\n",
       "      <td>0.019803</td>\n",
       "    </tr>\n",
       "    <tr>\n",
       "      <th>441</th>\n",
       "      <td>0.876281</td>\n",
       "      <td>0.499316</td>\n",
       "      <td>0.328070</td>\n",
       "      <td>0.786009</td>\n",
       "    </tr>\n",
       "    <tr>\n",
       "      <th>442</th>\n",
       "      <td>0.916937</td>\n",
       "      <td>0.265344</td>\n",
       "      <td>0.475756</td>\n",
       "      <td>0.198228</td>\n",
       "    </tr>\n",
       "  </tbody>\n",
       "</table>\n",
       "<p>443 rows × 4 columns</p>\n",
       "</div>"
      ],
      "text/plain": [
       "            0         1         2         3\n",
       "0    0.254917  0.787095  0.239088  0.284318\n",
       "1    0.245963  0.972372  0.933101  0.914154\n",
       "2    0.962912  0.445243  0.936070  0.917919\n",
       "3    0.912417  0.972347  0.861084  0.018245\n",
       "4    0.711203  0.549370  0.814258  0.827685\n",
       "..        ...       ...       ...       ...\n",
       "438  0.920939  0.416649  0.847789  0.385309\n",
       "439  0.407680  0.336233  0.102381  0.232752\n",
       "440  0.641310  0.869629  0.448268  0.019803\n",
       "441  0.876281  0.499316  0.328070  0.786009\n",
       "442  0.916937  0.265344  0.475756  0.198228\n",
       "\n",
       "[443 rows x 4 columns]"
      ]
     },
     "execution_count": 35,
     "metadata": {},
     "output_type": "execute_result"
    }
   ],
   "source": [
    "newdf"
   ]
  },
  {
   "cell_type": "code",
   "execution_count": 36,
   "id": "eaf3fd81",
   "metadata": {},
   "outputs": [
    {
     "data": {
      "text/plain": [
       "(443, 4)"
      ]
     },
     "execution_count": 36,
     "metadata": {},
     "output_type": "execute_result"
    }
   ],
   "source": [
    "newdf.shape"
   ]
  },
  {
   "cell_type": "code",
   "execution_count": 37,
   "id": "a8e8b206",
   "metadata": {},
   "outputs": [
    {
     "data": {
      "text/html": [
       "<div>\n",
       "<style scoped>\n",
       "    .dataframe tbody tr th:only-of-type {\n",
       "        vertical-align: middle;\n",
       "    }\n",
       "\n",
       "    .dataframe tbody tr th {\n",
       "        vertical-align: top;\n",
       "    }\n",
       "\n",
       "    .dataframe thead th {\n",
       "        text-align: right;\n",
       "    }\n",
       "</style>\n",
       "<table border=\"1\" class=\"dataframe\">\n",
       "  <thead>\n",
       "    <tr style=\"text-align: right;\">\n",
       "      <th></th>\n",
       "      <th>0</th>\n",
       "      <th>1</th>\n",
       "      <th>2</th>\n",
       "      <th>3</th>\n",
       "    </tr>\n",
       "  </thead>\n",
       "  <tbody>\n",
       "    <tr>\n",
       "      <th>0</th>\n",
       "      <td>0.254917</td>\n",
       "      <td>0.787095</td>\n",
       "      <td>0.239088</td>\n",
       "      <td>0.284318</td>\n",
       "    </tr>\n",
       "    <tr>\n",
       "      <th>1</th>\n",
       "      <td>0.245963</td>\n",
       "      <td>0.972372</td>\n",
       "      <td>0.933101</td>\n",
       "      <td>0.914154</td>\n",
       "    </tr>\n",
       "    <tr>\n",
       "      <th>2</th>\n",
       "      <td>0.962912</td>\n",
       "      <td>0.445243</td>\n",
       "      <td>0.936070</td>\n",
       "      <td>0.917919</td>\n",
       "    </tr>\n",
       "    <tr>\n",
       "      <th>3</th>\n",
       "      <td>0.912417</td>\n",
       "      <td>0.972347</td>\n",
       "      <td>0.861084</td>\n",
       "      <td>0.018245</td>\n",
       "    </tr>\n",
       "    <tr>\n",
       "      <th>4</th>\n",
       "      <td>0.711203</td>\n",
       "      <td>0.549370</td>\n",
       "      <td>0.814258</td>\n",
       "      <td>0.827685</td>\n",
       "    </tr>\n",
       "  </tbody>\n",
       "</table>\n",
       "</div>"
      ],
      "text/plain": [
       "          0         1         2         3\n",
       "0  0.254917  0.787095  0.239088  0.284318\n",
       "1  0.245963  0.972372  0.933101  0.914154\n",
       "2  0.962912  0.445243  0.936070  0.917919\n",
       "3  0.912417  0.972347  0.861084  0.018245\n",
       "4  0.711203  0.549370  0.814258  0.827685"
      ]
     },
     "execution_count": 37,
     "metadata": {},
     "output_type": "execute_result"
    }
   ],
   "source": [
    "newdf.head()"
   ]
  },
  {
   "cell_type": "code",
   "execution_count": 38,
   "id": "051bbfcc",
   "metadata": {},
   "outputs": [
    {
     "data": {
      "text/html": [
       "<div>\n",
       "<style scoped>\n",
       "    .dataframe tbody tr th:only-of-type {\n",
       "        vertical-align: middle;\n",
       "    }\n",
       "\n",
       "    .dataframe tbody tr th {\n",
       "        vertical-align: top;\n",
       "    }\n",
       "\n",
       "    .dataframe thead th {\n",
       "        text-align: right;\n",
       "    }\n",
       "</style>\n",
       "<table border=\"1\" class=\"dataframe\">\n",
       "  <thead>\n",
       "    <tr style=\"text-align: right;\">\n",
       "      <th></th>\n",
       "      <th>0</th>\n",
       "      <th>1</th>\n",
       "      <th>2</th>\n",
       "      <th>3</th>\n",
       "    </tr>\n",
       "  </thead>\n",
       "  <tbody>\n",
       "    <tr>\n",
       "      <th>438</th>\n",
       "      <td>0.920939</td>\n",
       "      <td>0.416649</td>\n",
       "      <td>0.847789</td>\n",
       "      <td>0.385309</td>\n",
       "    </tr>\n",
       "    <tr>\n",
       "      <th>439</th>\n",
       "      <td>0.407680</td>\n",
       "      <td>0.336233</td>\n",
       "      <td>0.102381</td>\n",
       "      <td>0.232752</td>\n",
       "    </tr>\n",
       "    <tr>\n",
       "      <th>440</th>\n",
       "      <td>0.641310</td>\n",
       "      <td>0.869629</td>\n",
       "      <td>0.448268</td>\n",
       "      <td>0.019803</td>\n",
       "    </tr>\n",
       "    <tr>\n",
       "      <th>441</th>\n",
       "      <td>0.876281</td>\n",
       "      <td>0.499316</td>\n",
       "      <td>0.328070</td>\n",
       "      <td>0.786009</td>\n",
       "    </tr>\n",
       "    <tr>\n",
       "      <th>442</th>\n",
       "      <td>0.916937</td>\n",
       "      <td>0.265344</td>\n",
       "      <td>0.475756</td>\n",
       "      <td>0.198228</td>\n",
       "    </tr>\n",
       "  </tbody>\n",
       "</table>\n",
       "</div>"
      ],
      "text/plain": [
       "            0         1         2         3\n",
       "438  0.920939  0.416649  0.847789  0.385309\n",
       "439  0.407680  0.336233  0.102381  0.232752\n",
       "440  0.641310  0.869629  0.448268  0.019803\n",
       "441  0.876281  0.499316  0.328070  0.786009\n",
       "442  0.916937  0.265344  0.475756  0.198228"
      ]
     },
     "execution_count": 38,
     "metadata": {},
     "output_type": "execute_result"
    }
   ],
   "source": [
    "newdf.tail()"
   ]
  },
  {
   "cell_type": "code",
   "execution_count": 39,
   "id": "c4737c24",
   "metadata": {},
   "outputs": [
    {
     "data": {
      "text/plain": [
       "2"
      ]
     },
     "execution_count": 39,
     "metadata": {},
     "output_type": "execute_result"
    }
   ],
   "source": [
    "newdf.ndim"
   ]
  },
  {
   "cell_type": "code",
   "execution_count": 40,
   "id": "9dc79233",
   "metadata": {},
   "outputs": [
    {
     "data": {
      "text/plain": [
       "array([[0.25491685, 0.78709467, 0.23908806, 0.28431779],\n",
       "       [0.24596285, 0.97237208, 0.93310122, 0.9141537 ],\n",
       "       [0.96291168, 0.44524332, 0.93606963, 0.91791899],\n",
       "       ...,\n",
       "       [0.64130979, 0.86962863, 0.44826756, 0.01980309],\n",
       "       [0.87628135, 0.4993161 , 0.32806962, 0.78600921],\n",
       "       [0.91693659, 0.26534428, 0.47575603, 0.19822821]])"
      ]
     },
     "execution_count": 40,
     "metadata": {},
     "output_type": "execute_result"
    }
   ],
   "source": [
    "newdf.to_numpy()"
   ]
  },
  {
   "cell_type": "code",
   "execution_count": 41,
   "id": "0d99d97b",
   "metadata": {},
   "outputs": [
    {
     "data": {
      "text/html": [
       "<div>\n",
       "<style scoped>\n",
       "    .dataframe tbody tr th:only-of-type {\n",
       "        vertical-align: middle;\n",
       "    }\n",
       "\n",
       "    .dataframe tbody tr th {\n",
       "        vertical-align: top;\n",
       "    }\n",
       "\n",
       "    .dataframe thead th {\n",
       "        text-align: right;\n",
       "    }\n",
       "</style>\n",
       "<table border=\"1\" class=\"dataframe\">\n",
       "  <thead>\n",
       "    <tr style=\"text-align: right;\">\n",
       "      <th></th>\n",
       "      <th>0</th>\n",
       "      <th>1</th>\n",
       "      <th>2</th>\n",
       "      <th>3</th>\n",
       "      <th>4</th>\n",
       "      <th>5</th>\n",
       "      <th>6</th>\n",
       "      <th>7</th>\n",
       "      <th>8</th>\n",
       "      <th>9</th>\n",
       "      <th>...</th>\n",
       "      <th>433</th>\n",
       "      <th>434</th>\n",
       "      <th>435</th>\n",
       "      <th>436</th>\n",
       "      <th>437</th>\n",
       "      <th>438</th>\n",
       "      <th>439</th>\n",
       "      <th>440</th>\n",
       "      <th>441</th>\n",
       "      <th>442</th>\n",
       "    </tr>\n",
       "  </thead>\n",
       "  <tbody>\n",
       "    <tr>\n",
       "      <th>0</th>\n",
       "      <td>0.254917</td>\n",
       "      <td>0.245963</td>\n",
       "      <td>0.962912</td>\n",
       "      <td>0.912417</td>\n",
       "      <td>0.711203</td>\n",
       "      <td>0.133041</td>\n",
       "      <td>0.313296</td>\n",
       "      <td>0.302669</td>\n",
       "      <td>0.116428</td>\n",
       "      <td>0.275729</td>\n",
       "      <td>...</td>\n",
       "      <td>0.594587</td>\n",
       "      <td>0.999289</td>\n",
       "      <td>0.586310</td>\n",
       "      <td>0.998148</td>\n",
       "      <td>0.816625</td>\n",
       "      <td>0.920939</td>\n",
       "      <td>0.407680</td>\n",
       "      <td>0.641310</td>\n",
       "      <td>0.876281</td>\n",
       "      <td>0.916937</td>\n",
       "    </tr>\n",
       "    <tr>\n",
       "      <th>1</th>\n",
       "      <td>0.787095</td>\n",
       "      <td>0.972372</td>\n",
       "      <td>0.445243</td>\n",
       "      <td>0.972347</td>\n",
       "      <td>0.549370</td>\n",
       "      <td>0.351103</td>\n",
       "      <td>0.593192</td>\n",
       "      <td>0.656503</td>\n",
       "      <td>0.316577</td>\n",
       "      <td>0.726454</td>\n",
       "      <td>...</td>\n",
       "      <td>0.556782</td>\n",
       "      <td>0.578053</td>\n",
       "      <td>0.166735</td>\n",
       "      <td>0.079306</td>\n",
       "      <td>0.174851</td>\n",
       "      <td>0.416649</td>\n",
       "      <td>0.336233</td>\n",
       "      <td>0.869629</td>\n",
       "      <td>0.499316</td>\n",
       "      <td>0.265344</td>\n",
       "    </tr>\n",
       "    <tr>\n",
       "      <th>2</th>\n",
       "      <td>0.239088</td>\n",
       "      <td>0.933101</td>\n",
       "      <td>0.936070</td>\n",
       "      <td>0.861084</td>\n",
       "      <td>0.814258</td>\n",
       "      <td>0.530475</td>\n",
       "      <td>0.492433</td>\n",
       "      <td>0.259646</td>\n",
       "      <td>0.340226</td>\n",
       "      <td>0.675419</td>\n",
       "      <td>...</td>\n",
       "      <td>0.218259</td>\n",
       "      <td>0.237840</td>\n",
       "      <td>0.874806</td>\n",
       "      <td>0.467459</td>\n",
       "      <td>0.308480</td>\n",
       "      <td>0.847789</td>\n",
       "      <td>0.102381</td>\n",
       "      <td>0.448268</td>\n",
       "      <td>0.328070</td>\n",
       "      <td>0.475756</td>\n",
       "    </tr>\n",
       "    <tr>\n",
       "      <th>3</th>\n",
       "      <td>0.284318</td>\n",
       "      <td>0.914154</td>\n",
       "      <td>0.917919</td>\n",
       "      <td>0.018245</td>\n",
       "      <td>0.827685</td>\n",
       "      <td>0.093811</td>\n",
       "      <td>0.553299</td>\n",
       "      <td>0.430562</td>\n",
       "      <td>0.129765</td>\n",
       "      <td>0.339155</td>\n",
       "      <td>...</td>\n",
       "      <td>0.670419</td>\n",
       "      <td>0.065548</td>\n",
       "      <td>0.922764</td>\n",
       "      <td>0.485181</td>\n",
       "      <td>0.537215</td>\n",
       "      <td>0.385309</td>\n",
       "      <td>0.232752</td>\n",
       "      <td>0.019803</td>\n",
       "      <td>0.786009</td>\n",
       "      <td>0.198228</td>\n",
       "    </tr>\n",
       "  </tbody>\n",
       "</table>\n",
       "<p>4 rows × 443 columns</p>\n",
       "</div>"
      ],
      "text/plain": [
       "        0         1         2         3         4         5         6    \\\n",
       "0  0.254917  0.245963  0.962912  0.912417  0.711203  0.133041  0.313296   \n",
       "1  0.787095  0.972372  0.445243  0.972347  0.549370  0.351103  0.593192   \n",
       "2  0.239088  0.933101  0.936070  0.861084  0.814258  0.530475  0.492433   \n",
       "3  0.284318  0.914154  0.917919  0.018245  0.827685  0.093811  0.553299   \n",
       "\n",
       "        7         8         9    ...       433       434       435       436  \\\n",
       "0  0.302669  0.116428  0.275729  ...  0.594587  0.999289  0.586310  0.998148   \n",
       "1  0.656503  0.316577  0.726454  ...  0.556782  0.578053  0.166735  0.079306   \n",
       "2  0.259646  0.340226  0.675419  ...  0.218259  0.237840  0.874806  0.467459   \n",
       "3  0.430562  0.129765  0.339155  ...  0.670419  0.065548  0.922764  0.485181   \n",
       "\n",
       "        437       438       439       440       441       442  \n",
       "0  0.816625  0.920939  0.407680  0.641310  0.876281  0.916937  \n",
       "1  0.174851  0.416649  0.336233  0.869629  0.499316  0.265344  \n",
       "2  0.308480  0.847789  0.102381  0.448268  0.328070  0.475756  \n",
       "3  0.537215  0.385309  0.232752  0.019803  0.786009  0.198228  \n",
       "\n",
       "[4 rows x 443 columns]"
      ]
     },
     "execution_count": 41,
     "metadata": {},
     "output_type": "execute_result"
    }
   ],
   "source": [
    "newdf.T"
   ]
  },
  {
   "cell_type": "code",
   "execution_count": null,
   "id": "808dc4a0",
   "metadata": {},
   "outputs": [],
   "source": []
  }
 ],
 "metadata": {
  "kernelspec": {
   "display_name": "Python 3",
   "language": "python",
   "name": "python3"
  },
  "language_info": {
   "codemirror_mode": {
    "name": "ipython",
    "version": 3
   },
   "file_extension": ".py",
   "mimetype": "text/x-python",
   "name": "python",
   "nbconvert_exporter": "python",
   "pygments_lexer": "ipython3",
   "version": "3.8.8"
  }
 },
 "nbformat": 4,
 "nbformat_minor": 5
}
