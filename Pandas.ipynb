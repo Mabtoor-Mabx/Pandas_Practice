{
 "cells": [
  {
   "cell_type": "markdown",
   "id": "4ed1eec5",
   "metadata": {},
   "source": [
    "# Pandas\n"
   ]
  },
  {
   "cell_type": "code",
   "execution_count": 1,
   "id": "3c416a7a",
   "metadata": {},
   "outputs": [],
   "source": [
    "import numpy as np\n",
    "import pandas as pd"
   ]
  },
  {
   "cell_type": "code",
   "execution_count": 2,
   "id": "4b886e49",
   "metadata": {},
   "outputs": [],
   "source": [
    "dict1 = {\n",
    "    'name' : ['Mabtoor','Waqas','Waheed','Horair'],\n",
    "    'class' : ['BSCS', 'BSSE','BSBI','BSIT'],\n",
    "    'RollNo' : [3144,6534,6742,3674],\n",
    "    'Marks' : [96,84,86,89]\n",
    "}"
   ]
  },
  {
   "cell_type": "code",
   "execution_count": 3,
   "id": "bf64c571",
   "metadata": {},
   "outputs": [
    {
     "data": {
      "text/plain": [
       "{'name': ['Mabtoor', 'Waqas', 'Waheed', 'Horair'],\n",
       " 'class': ['BSCS', 'BSSE', 'BSBI', 'BSIT'],\n",
       " 'RollNo': [3144, 6534, 6742, 3674],\n",
       " 'Marks': [96, 84, 86, 89]}"
      ]
     },
     "execution_count": 3,
     "metadata": {},
     "output_type": "execute_result"
    }
   ],
   "source": [
    "dict1"
   ]
  },
  {
   "cell_type": "code",
   "execution_count": 4,
   "id": "b8497324",
   "metadata": {},
   "outputs": [],
   "source": [
    "df = pd.DataFrame(dict1)"
   ]
  },
  {
   "cell_type": "code",
   "execution_count": 5,
   "id": "33ae8b14",
   "metadata": {},
   "outputs": [
    {
     "data": {
      "text/html": [
       "<div>\n",
       "<style scoped>\n",
       "    .dataframe tbody tr th:only-of-type {\n",
       "        vertical-align: middle;\n",
       "    }\n",
       "\n",
       "    .dataframe tbody tr th {\n",
       "        vertical-align: top;\n",
       "    }\n",
       "\n",
       "    .dataframe thead th {\n",
       "        text-align: right;\n",
       "    }\n",
       "</style>\n",
       "<table border=\"1\" class=\"dataframe\">\n",
       "  <thead>\n",
       "    <tr style=\"text-align: right;\">\n",
       "      <th></th>\n",
       "      <th>name</th>\n",
       "      <th>class</th>\n",
       "      <th>RollNo</th>\n",
       "      <th>Marks</th>\n",
       "    </tr>\n",
       "  </thead>\n",
       "  <tbody>\n",
       "    <tr>\n",
       "      <th>0</th>\n",
       "      <td>Mabtoor</td>\n",
       "      <td>BSCS</td>\n",
       "      <td>3144</td>\n",
       "      <td>96</td>\n",
       "    </tr>\n",
       "    <tr>\n",
       "      <th>1</th>\n",
       "      <td>Waqas</td>\n",
       "      <td>BSSE</td>\n",
       "      <td>6534</td>\n",
       "      <td>84</td>\n",
       "    </tr>\n",
       "    <tr>\n",
       "      <th>2</th>\n",
       "      <td>Waheed</td>\n",
       "      <td>BSBI</td>\n",
       "      <td>6742</td>\n",
       "      <td>86</td>\n",
       "    </tr>\n",
       "    <tr>\n",
       "      <th>3</th>\n",
       "      <td>Horair</td>\n",
       "      <td>BSIT</td>\n",
       "      <td>3674</td>\n",
       "      <td>89</td>\n",
       "    </tr>\n",
       "  </tbody>\n",
       "</table>\n",
       "</div>"
      ],
      "text/plain": [
       "      name class  RollNo  Marks\n",
       "0  Mabtoor  BSCS    3144     96\n",
       "1    Waqas  BSSE    6534     84\n",
       "2   Waheed  BSBI    6742     86\n",
       "3   Horair  BSIT    3674     89"
      ]
     },
     "execution_count": 5,
     "metadata": {},
     "output_type": "execute_result"
    }
   ],
   "source": [
    "df"
   ]
  },
  {
   "cell_type": "code",
   "execution_count": 6,
   "id": "7c112bec",
   "metadata": {},
   "outputs": [],
   "source": [
    "df.to_csv('Mabtoor.csv')"
   ]
  },
  {
   "cell_type": "code",
   "execution_count": 7,
   "id": "16affe3d",
   "metadata": {},
   "outputs": [],
   "source": [
    "df.to_csv('Mabtoor_without_indexing', index=False)"
   ]
  },
  {
   "cell_type": "code",
   "execution_count": 9,
   "id": "0f44d326",
   "metadata": {},
   "outputs": [],
   "source": [
    "dictionery = {\n",
    "    'TrainNo': [43,65,74,85,24,64,73],\n",
    "    'SeatNo' : [54,63,54,63,45,46,46],\n",
    "    'PassangersName' : ['Zeeshan', 'Atif', 'Zaka', 'Umar', 'taqveem','Mrs.Choudary', 'Umer Yaqoob'],\n",
    "    'Destinations' : ['Malaysia','Sydney','Bahawalpur', 'Faisalabad','Jehlum', 'Lahore', 'Faisalabad']\n",
    "}"
   ]
  },
  {
   "cell_type": "code",
   "execution_count": 10,
   "id": "11304e2a",
   "metadata": {},
   "outputs": [
    {
     "data": {
      "text/plain": [
       "{'TrainNo': [43, 65, 74, 85, 24, 64, 73],\n",
       " 'SeatNo': [54, 63, 54, 63, 45, 46, 46],\n",
       " 'PassangersName': ['Zeeshan',\n",
       "  'Atif',\n",
       "  'Zaka',\n",
       "  'Umar',\n",
       "  'taqveem',\n",
       "  'Mrs.Choudary',\n",
       "  'Umer Yaqoob'],\n",
       " 'Destinations': ['Malaysia',\n",
       "  'Sydney',\n",
       "  'Bahawalpur',\n",
       "  'Faisalabad',\n",
       "  'Jehlum',\n",
       "  'Lahore',\n",
       "  'Faisalabad']}"
      ]
     },
     "execution_count": 10,
     "metadata": {},
     "output_type": "execute_result"
    }
   ],
   "source": [
    "dictionery"
   ]
  },
  {
   "cell_type": "code",
   "execution_count": 11,
   "id": "2eda3bf7",
   "metadata": {},
   "outputs": [],
   "source": [
    "df = pd.DataFrame(dictionery)"
   ]
  },
  {
   "cell_type": "code",
   "execution_count": 12,
   "id": "c1ab37b3",
   "metadata": {},
   "outputs": [
    {
     "data": {
      "text/html": [
       "<div>\n",
       "<style scoped>\n",
       "    .dataframe tbody tr th:only-of-type {\n",
       "        vertical-align: middle;\n",
       "    }\n",
       "\n",
       "    .dataframe tbody tr th {\n",
       "        vertical-align: top;\n",
       "    }\n",
       "\n",
       "    .dataframe thead th {\n",
       "        text-align: right;\n",
       "    }\n",
       "</style>\n",
       "<table border=\"1\" class=\"dataframe\">\n",
       "  <thead>\n",
       "    <tr style=\"text-align: right;\">\n",
       "      <th></th>\n",
       "      <th>TrainNo</th>\n",
       "      <th>SeatNo</th>\n",
       "      <th>PassangersName</th>\n",
       "      <th>Destinations</th>\n",
       "    </tr>\n",
       "  </thead>\n",
       "  <tbody>\n",
       "    <tr>\n",
       "      <th>0</th>\n",
       "      <td>43</td>\n",
       "      <td>54</td>\n",
       "      <td>Zeeshan</td>\n",
       "      <td>Malaysia</td>\n",
       "    </tr>\n",
       "    <tr>\n",
       "      <th>1</th>\n",
       "      <td>65</td>\n",
       "      <td>63</td>\n",
       "      <td>Atif</td>\n",
       "      <td>Sydney</td>\n",
       "    </tr>\n",
       "    <tr>\n",
       "      <th>2</th>\n",
       "      <td>74</td>\n",
       "      <td>54</td>\n",
       "      <td>Zaka</td>\n",
       "      <td>Bahawalpur</td>\n",
       "    </tr>\n",
       "    <tr>\n",
       "      <th>3</th>\n",
       "      <td>85</td>\n",
       "      <td>63</td>\n",
       "      <td>Umar</td>\n",
       "      <td>Faisalabad</td>\n",
       "    </tr>\n",
       "    <tr>\n",
       "      <th>4</th>\n",
       "      <td>24</td>\n",
       "      <td>45</td>\n",
       "      <td>taqveem</td>\n",
       "      <td>Jehlum</td>\n",
       "    </tr>\n",
       "    <tr>\n",
       "      <th>5</th>\n",
       "      <td>64</td>\n",
       "      <td>46</td>\n",
       "      <td>Mrs.Choudary</td>\n",
       "      <td>Lahore</td>\n",
       "    </tr>\n",
       "    <tr>\n",
       "      <th>6</th>\n",
       "      <td>73</td>\n",
       "      <td>46</td>\n",
       "      <td>Umer Yaqoob</td>\n",
       "      <td>Faisalabad</td>\n",
       "    </tr>\n",
       "  </tbody>\n",
       "</table>\n",
       "</div>"
      ],
      "text/plain": [
       "   TrainNo  SeatNo PassangersName Destinations\n",
       "0       43      54        Zeeshan     Malaysia\n",
       "1       65      63           Atif       Sydney\n",
       "2       74      54           Zaka   Bahawalpur\n",
       "3       85      63           Umar   Faisalabad\n",
       "4       24      45        taqveem       Jehlum\n",
       "5       64      46   Mrs.Choudary       Lahore\n",
       "6       73      46    Umer Yaqoob   Faisalabad"
      ]
     },
     "execution_count": 12,
     "metadata": {},
     "output_type": "execute_result"
    }
   ],
   "source": [
    "df"
   ]
  },
  {
   "cell_type": "code",
   "execution_count": 26,
   "id": "d269b456",
   "metadata": {},
   "outputs": [],
   "source": [
    "df.to_csv('Personal_Friends.csv')"
   ]
  },
  {
   "cell_type": "code",
   "execution_count": 27,
   "id": "b9f95702",
   "metadata": {},
   "outputs": [],
   "source": [
    "df.to_csv('Personal_Friends_Info_Without_Indices.csv', index=False)"
   ]
  },
  {
   "cell_type": "code",
   "execution_count": 16,
   "id": "d6a22e58",
   "metadata": {},
   "outputs": [
    {
     "data": {
      "text/html": [
       "<div>\n",
       "<style scoped>\n",
       "    .dataframe tbody tr th:only-of-type {\n",
       "        vertical-align: middle;\n",
       "    }\n",
       "\n",
       "    .dataframe tbody tr th {\n",
       "        vertical-align: top;\n",
       "    }\n",
       "\n",
       "    .dataframe thead th {\n",
       "        text-align: right;\n",
       "    }\n",
       "</style>\n",
       "<table border=\"1\" class=\"dataframe\">\n",
       "  <thead>\n",
       "    <tr style=\"text-align: right;\">\n",
       "      <th></th>\n",
       "      <th>TrainNo</th>\n",
       "      <th>SeatNo</th>\n",
       "      <th>PassangersName</th>\n",
       "      <th>Destinations</th>\n",
       "    </tr>\n",
       "  </thead>\n",
       "  <tbody>\n",
       "    <tr>\n",
       "      <th>0</th>\n",
       "      <td>43</td>\n",
       "      <td>54</td>\n",
       "      <td>Zeeshan</td>\n",
       "      <td>Malaysia</td>\n",
       "    </tr>\n",
       "    <tr>\n",
       "      <th>1</th>\n",
       "      <td>65</td>\n",
       "      <td>63</td>\n",
       "      <td>Atif</td>\n",
       "      <td>Sydney</td>\n",
       "    </tr>\n",
       "    <tr>\n",
       "      <th>2</th>\n",
       "      <td>74</td>\n",
       "      <td>54</td>\n",
       "      <td>Zaka</td>\n",
       "      <td>Bahawalpur</td>\n",
       "    </tr>\n",
       "    <tr>\n",
       "      <th>3</th>\n",
       "      <td>85</td>\n",
       "      <td>63</td>\n",
       "      <td>Umar</td>\n",
       "      <td>Faisalabad</td>\n",
       "    </tr>\n",
       "    <tr>\n",
       "      <th>4</th>\n",
       "      <td>24</td>\n",
       "      <td>45</td>\n",
       "      <td>taqveem</td>\n",
       "      <td>Jehlum</td>\n",
       "    </tr>\n",
       "  </tbody>\n",
       "</table>\n",
       "</div>"
      ],
      "text/plain": [
       "   TrainNo  SeatNo PassangersName Destinations\n",
       "0       43      54        Zeeshan     Malaysia\n",
       "1       65      63           Atif       Sydney\n",
       "2       74      54           Zaka   Bahawalpur\n",
       "3       85      63           Umar   Faisalabad\n",
       "4       24      45        taqveem       Jehlum"
      ]
     },
     "execution_count": 16,
     "metadata": {},
     "output_type": "execute_result"
    }
   ],
   "source": [
    "df.head()"
   ]
  },
  {
   "cell_type": "code",
   "execution_count": 17,
   "id": "7e2ea176",
   "metadata": {},
   "outputs": [
    {
     "data": {
      "text/html": [
       "<div>\n",
       "<style scoped>\n",
       "    .dataframe tbody tr th:only-of-type {\n",
       "        vertical-align: middle;\n",
       "    }\n",
       "\n",
       "    .dataframe tbody tr th {\n",
       "        vertical-align: top;\n",
       "    }\n",
       "\n",
       "    .dataframe thead th {\n",
       "        text-align: right;\n",
       "    }\n",
       "</style>\n",
       "<table border=\"1\" class=\"dataframe\">\n",
       "  <thead>\n",
       "    <tr style=\"text-align: right;\">\n",
       "      <th></th>\n",
       "      <th>TrainNo</th>\n",
       "      <th>SeatNo</th>\n",
       "      <th>PassangersName</th>\n",
       "      <th>Destinations</th>\n",
       "    </tr>\n",
       "  </thead>\n",
       "  <tbody>\n",
       "    <tr>\n",
       "      <th>2</th>\n",
       "      <td>74</td>\n",
       "      <td>54</td>\n",
       "      <td>Zaka</td>\n",
       "      <td>Bahawalpur</td>\n",
       "    </tr>\n",
       "    <tr>\n",
       "      <th>3</th>\n",
       "      <td>85</td>\n",
       "      <td>63</td>\n",
       "      <td>Umar</td>\n",
       "      <td>Faisalabad</td>\n",
       "    </tr>\n",
       "    <tr>\n",
       "      <th>4</th>\n",
       "      <td>24</td>\n",
       "      <td>45</td>\n",
       "      <td>taqveem</td>\n",
       "      <td>Jehlum</td>\n",
       "    </tr>\n",
       "    <tr>\n",
       "      <th>5</th>\n",
       "      <td>64</td>\n",
       "      <td>46</td>\n",
       "      <td>Mrs.Choudary</td>\n",
       "      <td>Lahore</td>\n",
       "    </tr>\n",
       "    <tr>\n",
       "      <th>6</th>\n",
       "      <td>73</td>\n",
       "      <td>46</td>\n",
       "      <td>Umer Yaqoob</td>\n",
       "      <td>Faisalabad</td>\n",
       "    </tr>\n",
       "  </tbody>\n",
       "</table>\n",
       "</div>"
      ],
      "text/plain": [
       "   TrainNo  SeatNo PassangersName Destinations\n",
       "2       74      54           Zaka   Bahawalpur\n",
       "3       85      63           Umar   Faisalabad\n",
       "4       24      45        taqveem       Jehlum\n",
       "5       64      46   Mrs.Choudary       Lahore\n",
       "6       73      46    Umer Yaqoob   Faisalabad"
      ]
     },
     "execution_count": 17,
     "metadata": {},
     "output_type": "execute_result"
    }
   ],
   "source": [
    "df.tail()"
   ]
  },
  {
   "cell_type": "code",
   "execution_count": 18,
   "id": "dd08b30a",
   "metadata": {},
   "outputs": [
    {
     "data": {
      "text/html": [
       "<div>\n",
       "<style scoped>\n",
       "    .dataframe tbody tr th:only-of-type {\n",
       "        vertical-align: middle;\n",
       "    }\n",
       "\n",
       "    .dataframe tbody tr th {\n",
       "        vertical-align: top;\n",
       "    }\n",
       "\n",
       "    .dataframe thead th {\n",
       "        text-align: right;\n",
       "    }\n",
       "</style>\n",
       "<table border=\"1\" class=\"dataframe\">\n",
       "  <thead>\n",
       "    <tr style=\"text-align: right;\">\n",
       "      <th></th>\n",
       "      <th>TrainNo</th>\n",
       "      <th>SeatNo</th>\n",
       "      <th>PassangersName</th>\n",
       "      <th>Destinations</th>\n",
       "    </tr>\n",
       "  </thead>\n",
       "  <tbody>\n",
       "    <tr>\n",
       "      <th>0</th>\n",
       "      <td>43</td>\n",
       "      <td>54</td>\n",
       "      <td>Zeeshan</td>\n",
       "      <td>Malaysia</td>\n",
       "    </tr>\n",
       "    <tr>\n",
       "      <th>1</th>\n",
       "      <td>65</td>\n",
       "      <td>63</td>\n",
       "      <td>Atif</td>\n",
       "      <td>Sydney</td>\n",
       "    </tr>\n",
       "  </tbody>\n",
       "</table>\n",
       "</div>"
      ],
      "text/plain": [
       "   TrainNo  SeatNo PassangersName Destinations\n",
       "0       43      54        Zeeshan     Malaysia\n",
       "1       65      63           Atif       Sydney"
      ]
     },
     "execution_count": 18,
     "metadata": {},
     "output_type": "execute_result"
    }
   ],
   "source": [
    "df.head(2)"
   ]
  },
  {
   "cell_type": "code",
   "execution_count": 19,
   "id": "1e1d10af",
   "metadata": {},
   "outputs": [
    {
     "data": {
      "text/html": [
       "<div>\n",
       "<style scoped>\n",
       "    .dataframe tbody tr th:only-of-type {\n",
       "        vertical-align: middle;\n",
       "    }\n",
       "\n",
       "    .dataframe tbody tr th {\n",
       "        vertical-align: top;\n",
       "    }\n",
       "\n",
       "    .dataframe thead th {\n",
       "        text-align: right;\n",
       "    }\n",
       "</style>\n",
       "<table border=\"1\" class=\"dataframe\">\n",
       "  <thead>\n",
       "    <tr style=\"text-align: right;\">\n",
       "      <th></th>\n",
       "      <th>TrainNo</th>\n",
       "      <th>SeatNo</th>\n",
       "      <th>PassangersName</th>\n",
       "      <th>Destinations</th>\n",
       "    </tr>\n",
       "  </thead>\n",
       "  <tbody>\n",
       "    <tr>\n",
       "      <th>5</th>\n",
       "      <td>64</td>\n",
       "      <td>46</td>\n",
       "      <td>Mrs.Choudary</td>\n",
       "      <td>Lahore</td>\n",
       "    </tr>\n",
       "    <tr>\n",
       "      <th>6</th>\n",
       "      <td>73</td>\n",
       "      <td>46</td>\n",
       "      <td>Umer Yaqoob</td>\n",
       "      <td>Faisalabad</td>\n",
       "    </tr>\n",
       "  </tbody>\n",
       "</table>\n",
       "</div>"
      ],
      "text/plain": [
       "   TrainNo  SeatNo PassangersName Destinations\n",
       "5       64      46   Mrs.Choudary       Lahore\n",
       "6       73      46    Umer Yaqoob   Faisalabad"
      ]
     },
     "execution_count": 19,
     "metadata": {},
     "output_type": "execute_result"
    }
   ],
   "source": [
    "df.tail(2)"
   ]
  },
  {
   "cell_type": "code",
   "execution_count": 20,
   "id": "fafe0988",
   "metadata": {},
   "outputs": [
    {
     "data": {
      "text/html": [
       "<div>\n",
       "<style scoped>\n",
       "    .dataframe tbody tr th:only-of-type {\n",
       "        vertical-align: middle;\n",
       "    }\n",
       "\n",
       "    .dataframe tbody tr th {\n",
       "        vertical-align: top;\n",
       "    }\n",
       "\n",
       "    .dataframe thead th {\n",
       "        text-align: right;\n",
       "    }\n",
       "</style>\n",
       "<table border=\"1\" class=\"dataframe\">\n",
       "  <thead>\n",
       "    <tr style=\"text-align: right;\">\n",
       "      <th></th>\n",
       "      <th>TrainNo</th>\n",
       "      <th>SeatNo</th>\n",
       "    </tr>\n",
       "  </thead>\n",
       "  <tbody>\n",
       "    <tr>\n",
       "      <th>count</th>\n",
       "      <td>7.000000</td>\n",
       "      <td>7.000000</td>\n",
       "    </tr>\n",
       "    <tr>\n",
       "      <th>mean</th>\n",
       "      <td>61.142857</td>\n",
       "      <td>53.000000</td>\n",
       "    </tr>\n",
       "    <tr>\n",
       "      <th>std</th>\n",
       "      <td>20.844092</td>\n",
       "      <td>7.788881</td>\n",
       "    </tr>\n",
       "    <tr>\n",
       "      <th>min</th>\n",
       "      <td>24.000000</td>\n",
       "      <td>45.000000</td>\n",
       "    </tr>\n",
       "    <tr>\n",
       "      <th>25%</th>\n",
       "      <td>53.500000</td>\n",
       "      <td>46.000000</td>\n",
       "    </tr>\n",
       "    <tr>\n",
       "      <th>50%</th>\n",
       "      <td>65.000000</td>\n",
       "      <td>54.000000</td>\n",
       "    </tr>\n",
       "    <tr>\n",
       "      <th>75%</th>\n",
       "      <td>73.500000</td>\n",
       "      <td>58.500000</td>\n",
       "    </tr>\n",
       "    <tr>\n",
       "      <th>max</th>\n",
       "      <td>85.000000</td>\n",
       "      <td>63.000000</td>\n",
       "    </tr>\n",
       "  </tbody>\n",
       "</table>\n",
       "</div>"
      ],
      "text/plain": [
       "         TrainNo     SeatNo\n",
       "count   7.000000   7.000000\n",
       "mean   61.142857  53.000000\n",
       "std    20.844092   7.788881\n",
       "min    24.000000  45.000000\n",
       "25%    53.500000  46.000000\n",
       "50%    65.000000  54.000000\n",
       "75%    73.500000  58.500000\n",
       "max    85.000000  63.000000"
      ]
     },
     "execution_count": 20,
     "metadata": {},
     "output_type": "execute_result"
    }
   ],
   "source": [
    "df.describe()"
   ]
  },
  {
   "cell_type": "code",
   "execution_count": 34,
   "id": "8473d553",
   "metadata": {},
   "outputs": [],
   "source": [
    "mabtoor = pd.read_csv('My_Personal.csv')"
   ]
  },
  {
   "cell_type": "code",
   "execution_count": 35,
   "id": "c8346415",
   "metadata": {},
   "outputs": [
    {
     "data": {
      "text/html": [
       "<div>\n",
       "<style scoped>\n",
       "    .dataframe tbody tr th:only-of-type {\n",
       "        vertical-align: middle;\n",
       "    }\n",
       "\n",
       "    .dataframe tbody tr th {\n",
       "        vertical-align: top;\n",
       "    }\n",
       "\n",
       "    .dataframe thead th {\n",
       "        text-align: right;\n",
       "    }\n",
       "</style>\n",
       "<table border=\"1\" class=\"dataframe\">\n",
       "  <thead>\n",
       "    <tr style=\"text-align: right;\">\n",
       "      <th></th>\n",
       "      <th>Unnamed: 0</th>\n",
       "      <th>TrainNo</th>\n",
       "      <th>SeatNo</th>\n",
       "      <th>PassangersName</th>\n",
       "      <th>Destinations</th>\n",
       "    </tr>\n",
       "  </thead>\n",
       "  <tbody>\n",
       "    <tr>\n",
       "      <th>0</th>\n",
       "      <td>0</td>\n",
       "      <td>42</td>\n",
       "      <td>54</td>\n",
       "      <td>Zeeshan</td>\n",
       "      <td>Malaysia</td>\n",
       "    </tr>\n",
       "    <tr>\n",
       "      <th>1</th>\n",
       "      <td>1</td>\n",
       "      <td>64</td>\n",
       "      <td>62</td>\n",
       "      <td>Atif</td>\n",
       "      <td>Sydney</td>\n",
       "    </tr>\n",
       "    <tr>\n",
       "      <th>2</th>\n",
       "      <td>2</td>\n",
       "      <td>78</td>\n",
       "      <td>51</td>\n",
       "      <td>Zaka</td>\n",
       "      <td>Bahawalpur</td>\n",
       "    </tr>\n",
       "    <tr>\n",
       "      <th>3</th>\n",
       "      <td>3</td>\n",
       "      <td>86</td>\n",
       "      <td>67</td>\n",
       "      <td>Umar</td>\n",
       "      <td>Faisalabad</td>\n",
       "    </tr>\n",
       "    <tr>\n",
       "      <th>4</th>\n",
       "      <td>4</td>\n",
       "      <td>34</td>\n",
       "      <td>49</td>\n",
       "      <td>taqveem</td>\n",
       "      <td>Jehlum</td>\n",
       "    </tr>\n",
       "    <tr>\n",
       "      <th>5</th>\n",
       "      <td>5</td>\n",
       "      <td>64</td>\n",
       "      <td>46</td>\n",
       "      <td>Mrs.Choudary</td>\n",
       "      <td>Lahore</td>\n",
       "    </tr>\n",
       "    <tr>\n",
       "      <th>6</th>\n",
       "      <td>6</td>\n",
       "      <td>77</td>\n",
       "      <td>44</td>\n",
       "      <td>Umer Yaqoob</td>\n",
       "      <td>Faisalabad</td>\n",
       "    </tr>\n",
       "  </tbody>\n",
       "</table>\n",
       "</div>"
      ],
      "text/plain": [
       "   Unnamed: 0  TrainNo  SeatNo PassangersName Destinations\n",
       "0           0       42      54        Zeeshan     Malaysia\n",
       "1           1       64      62           Atif       Sydney\n",
       "2           2       78      51           Zaka   Bahawalpur\n",
       "3           3       86      67           Umar   Faisalabad\n",
       "4           4       34      49        taqveem       Jehlum\n",
       "5           5       64      46   Mrs.Choudary       Lahore\n",
       "6           6       77      44    Umer Yaqoob   Faisalabad"
      ]
     },
     "execution_count": 35,
     "metadata": {},
     "output_type": "execute_result"
    }
   ],
   "source": [
    "mabtoor"
   ]
  },
  {
   "cell_type": "code",
   "execution_count": 36,
   "id": "e04a93a6",
   "metadata": {},
   "outputs": [
    {
     "data": {
      "text/html": [
       "<div>\n",
       "<style scoped>\n",
       "    .dataframe tbody tr th:only-of-type {\n",
       "        vertical-align: middle;\n",
       "    }\n",
       "\n",
       "    .dataframe tbody tr th {\n",
       "        vertical-align: top;\n",
       "    }\n",
       "\n",
       "    .dataframe thead th {\n",
       "        text-align: right;\n",
       "    }\n",
       "</style>\n",
       "<table border=\"1\" class=\"dataframe\">\n",
       "  <thead>\n",
       "    <tr style=\"text-align: right;\">\n",
       "      <th></th>\n",
       "      <th>TrainNo</th>\n",
       "      <th>SeatNo</th>\n",
       "      <th>PassangersName</th>\n",
       "      <th>Destinations</th>\n",
       "    </tr>\n",
       "  </thead>\n",
       "  <tbody>\n",
       "    <tr>\n",
       "      <th>0</th>\n",
       "      <td>43</td>\n",
       "      <td>54</td>\n",
       "      <td>Zeeshan</td>\n",
       "      <td>Malaysia</td>\n",
       "    </tr>\n",
       "    <tr>\n",
       "      <th>1</th>\n",
       "      <td>65</td>\n",
       "      <td>63</td>\n",
       "      <td>Atif</td>\n",
       "      <td>Sydney</td>\n",
       "    </tr>\n",
       "    <tr>\n",
       "      <th>2</th>\n",
       "      <td>74</td>\n",
       "      <td>54</td>\n",
       "      <td>Zaka</td>\n",
       "      <td>Bahawalpur</td>\n",
       "    </tr>\n",
       "    <tr>\n",
       "      <th>3</th>\n",
       "      <td>85</td>\n",
       "      <td>63</td>\n",
       "      <td>Umar</td>\n",
       "      <td>Faisalabad</td>\n",
       "    </tr>\n",
       "    <tr>\n",
       "      <th>4</th>\n",
       "      <td>24</td>\n",
       "      <td>45</td>\n",
       "      <td>taqveem</td>\n",
       "      <td>Jehlum</td>\n",
       "    </tr>\n",
       "    <tr>\n",
       "      <th>5</th>\n",
       "      <td>64</td>\n",
       "      <td>46</td>\n",
       "      <td>Mrs.Choudary</td>\n",
       "      <td>Lahore</td>\n",
       "    </tr>\n",
       "    <tr>\n",
       "      <th>6</th>\n",
       "      <td>73</td>\n",
       "      <td>46</td>\n",
       "      <td>Umer Yaqoob</td>\n",
       "      <td>Faisalabad</td>\n",
       "    </tr>\n",
       "  </tbody>\n",
       "</table>\n",
       "</div>"
      ],
      "text/plain": [
       "   TrainNo  SeatNo PassangersName Destinations\n",
       "0       43      54        Zeeshan     Malaysia\n",
       "1       65      63           Atif       Sydney\n",
       "2       74      54           Zaka   Bahawalpur\n",
       "3       85      63           Umar   Faisalabad\n",
       "4       24      45        taqveem       Jehlum\n",
       "5       64      46   Mrs.Choudary       Lahore\n",
       "6       73      46    Umer Yaqoob   Faisalabad"
      ]
     },
     "execution_count": 36,
     "metadata": {},
     "output_type": "execute_result"
    }
   ],
   "source": [
    "df\n"
   ]
  },
  {
   "cell_type": "code",
   "execution_count": 43,
   "id": "38bc8337",
   "metadata": {},
   "outputs": [
    {
     "data": {
      "text/plain": [
       "0    43\n",
       "1    65\n",
       "2    74\n",
       "3    85\n",
       "4    24\n",
       "5    64\n",
       "6    73\n",
       "Name: TrainNo, dtype: int64"
      ]
     },
     "execution_count": 43,
     "metadata": {},
     "output_type": "execute_result"
    }
   ],
   "source": [
    "df['TrainNo']"
   ]
  },
  {
   "cell_type": "code",
   "execution_count": 44,
   "id": "3efc067e",
   "metadata": {},
   "outputs": [
    {
     "data": {
      "text/plain": [
       "54"
      ]
     },
     "execution_count": 44,
     "metadata": {},
     "output_type": "execute_result"
    }
   ],
   "source": [
    "df['SeatNo'][0]"
   ]
  },
  {
   "cell_type": "code",
   "execution_count": 45,
   "id": "7f0a6910",
   "metadata": {},
   "outputs": [
    {
     "name": "stderr",
     "output_type": "stream",
     "text": [
      "<ipython-input-45-96f2bc627170>:1: SettingWithCopyWarning: \n",
      "A value is trying to be set on a copy of a slice from a DataFrame\n",
      "\n",
      "See the caveats in the documentation: https://pandas.pydata.org/pandas-docs/stable/user_guide/indexing.html#returning-a-view-versus-a-copy\n",
      "  df['SeatNo'][0] = 34\n"
     ]
    }
   ],
   "source": [
    "df['SeatNo'][0] = 34\n"
   ]
  },
  {
   "cell_type": "code",
   "execution_count": 46,
   "id": "b05b1e95",
   "metadata": {},
   "outputs": [
    {
     "data": {
      "text/html": [
       "<div>\n",
       "<style scoped>\n",
       "    .dataframe tbody tr th:only-of-type {\n",
       "        vertical-align: middle;\n",
       "    }\n",
       "\n",
       "    .dataframe tbody tr th {\n",
       "        vertical-align: top;\n",
       "    }\n",
       "\n",
       "    .dataframe thead th {\n",
       "        text-align: right;\n",
       "    }\n",
       "</style>\n",
       "<table border=\"1\" class=\"dataframe\">\n",
       "  <thead>\n",
       "    <tr style=\"text-align: right;\">\n",
       "      <th></th>\n",
       "      <th>TrainNo</th>\n",
       "      <th>SeatNo</th>\n",
       "      <th>PassangersName</th>\n",
       "      <th>Destinations</th>\n",
       "    </tr>\n",
       "  </thead>\n",
       "  <tbody>\n",
       "    <tr>\n",
       "      <th>0</th>\n",
       "      <td>43</td>\n",
       "      <td>34</td>\n",
       "      <td>Zeeshan</td>\n",
       "      <td>Malaysia</td>\n",
       "    </tr>\n",
       "    <tr>\n",
       "      <th>1</th>\n",
       "      <td>65</td>\n",
       "      <td>63</td>\n",
       "      <td>Atif</td>\n",
       "      <td>Sydney</td>\n",
       "    </tr>\n",
       "    <tr>\n",
       "      <th>2</th>\n",
       "      <td>74</td>\n",
       "      <td>54</td>\n",
       "      <td>Zaka</td>\n",
       "      <td>Bahawalpur</td>\n",
       "    </tr>\n",
       "    <tr>\n",
       "      <th>3</th>\n",
       "      <td>85</td>\n",
       "      <td>63</td>\n",
       "      <td>Umar</td>\n",
       "      <td>Faisalabad</td>\n",
       "    </tr>\n",
       "    <tr>\n",
       "      <th>4</th>\n",
       "      <td>24</td>\n",
       "      <td>45</td>\n",
       "      <td>taqveem</td>\n",
       "      <td>Jehlum</td>\n",
       "    </tr>\n",
       "    <tr>\n",
       "      <th>5</th>\n",
       "      <td>64</td>\n",
       "      <td>46</td>\n",
       "      <td>Mrs.Choudary</td>\n",
       "      <td>Lahore</td>\n",
       "    </tr>\n",
       "    <tr>\n",
       "      <th>6</th>\n",
       "      <td>73</td>\n",
       "      <td>46</td>\n",
       "      <td>Umer Yaqoob</td>\n",
       "      <td>Faisalabad</td>\n",
       "    </tr>\n",
       "  </tbody>\n",
       "</table>\n",
       "</div>"
      ],
      "text/plain": [
       "   TrainNo  SeatNo PassangersName Destinations\n",
       "0       43      34        Zeeshan     Malaysia\n",
       "1       65      63           Atif       Sydney\n",
       "2       74      54           Zaka   Bahawalpur\n",
       "3       85      63           Umar   Faisalabad\n",
       "4       24      45        taqveem       Jehlum\n",
       "5       64      46   Mrs.Choudary       Lahore\n",
       "6       73      46    Umer Yaqoob   Faisalabad"
      ]
     },
     "execution_count": 46,
     "metadata": {},
     "output_type": "execute_result"
    }
   ],
   "source": [
    "df"
   ]
  },
  {
   "cell_type": "code",
   "execution_count": 47,
   "id": "82b8b808",
   "metadata": {},
   "outputs": [
    {
     "data": {
      "text/plain": [
       "RangeIndex(start=0, stop=7, step=1)"
      ]
     },
     "execution_count": 47,
     "metadata": {},
     "output_type": "execute_result"
    }
   ],
   "source": [
    "df.index"
   ]
  },
  {
   "cell_type": "code",
   "execution_count": 48,
   "id": "2a1daa1d",
   "metadata": {},
   "outputs": [
    {
     "data": {
      "text/plain": [
       "Index(['TrainNo', 'SeatNo', 'PassangersName', 'Destinations'], dtype='object')"
      ]
     },
     "execution_count": 48,
     "metadata": {},
     "output_type": "execute_result"
    }
   ],
   "source": [
    "df.columns"
   ]
  },
  {
   "cell_type": "code",
   "execution_count": 49,
   "id": "32b49cb5",
   "metadata": {},
   "outputs": [],
   "source": [
    "ser = pd.Series(np.random.randint(34))"
   ]
  },
  {
   "cell_type": "code",
   "execution_count": 50,
   "id": "850e22a4",
   "metadata": {},
   "outputs": [
    {
     "data": {
      "text/plain": [
       "0    16\n",
       "dtype: int64"
      ]
     },
     "execution_count": 50,
     "metadata": {},
     "output_type": "execute_result"
    }
   ],
   "source": [
    "ser"
   ]
  },
  {
   "cell_type": "code",
   "execution_count": 51,
   "id": "2db9c536",
   "metadata": {},
   "outputs": [
    {
     "data": {
      "text/plain": [
       "pandas.core.series.Series"
      ]
     },
     "execution_count": 51,
     "metadata": {},
     "output_type": "execute_result"
    }
   ],
   "source": [
    "type(ser)"
   ]
  },
  {
   "cell_type": "code",
   "execution_count": 60,
   "id": "ab61dba4",
   "metadata": {},
   "outputs": [],
   "source": [
    "newdf = pd.DataFrame(np.random.rand(334,5), index=np.arange(334))"
   ]
  },
  {
   "cell_type": "code",
   "execution_count": 61,
   "id": "f91fbce8",
   "metadata": {},
   "outputs": [
    {
     "data": {
      "text/html": [
       "<div>\n",
       "<style scoped>\n",
       "    .dataframe tbody tr th:only-of-type {\n",
       "        vertical-align: middle;\n",
       "    }\n",
       "\n",
       "    .dataframe tbody tr th {\n",
       "        vertical-align: top;\n",
       "    }\n",
       "\n",
       "    .dataframe thead th {\n",
       "        text-align: right;\n",
       "    }\n",
       "</style>\n",
       "<table border=\"1\" class=\"dataframe\">\n",
       "  <thead>\n",
       "    <tr style=\"text-align: right;\">\n",
       "      <th></th>\n",
       "      <th>0</th>\n",
       "      <th>1</th>\n",
       "      <th>2</th>\n",
       "      <th>3</th>\n",
       "      <th>4</th>\n",
       "    </tr>\n",
       "  </thead>\n",
       "  <tbody>\n",
       "    <tr>\n",
       "      <th>0</th>\n",
       "      <td>0.999646</td>\n",
       "      <td>0.041808</td>\n",
       "      <td>0.145118</td>\n",
       "      <td>0.707398</td>\n",
       "      <td>0.762646</td>\n",
       "    </tr>\n",
       "    <tr>\n",
       "      <th>1</th>\n",
       "      <td>0.285439</td>\n",
       "      <td>0.508386</td>\n",
       "      <td>0.681820</td>\n",
       "      <td>0.362834</td>\n",
       "      <td>0.365149</td>\n",
       "    </tr>\n",
       "    <tr>\n",
       "      <th>2</th>\n",
       "      <td>0.822592</td>\n",
       "      <td>0.834434</td>\n",
       "      <td>0.466523</td>\n",
       "      <td>0.842519</td>\n",
       "      <td>0.956287</td>\n",
       "    </tr>\n",
       "    <tr>\n",
       "      <th>3</th>\n",
       "      <td>0.382259</td>\n",
       "      <td>0.477288</td>\n",
       "      <td>0.717101</td>\n",
       "      <td>0.234430</td>\n",
       "      <td>0.833142</td>\n",
       "    </tr>\n",
       "    <tr>\n",
       "      <th>4</th>\n",
       "      <td>0.165921</td>\n",
       "      <td>0.089459</td>\n",
       "      <td>0.804111</td>\n",
       "      <td>0.658834</td>\n",
       "      <td>0.791350</td>\n",
       "    </tr>\n",
       "    <tr>\n",
       "      <th>...</th>\n",
       "      <td>...</td>\n",
       "      <td>...</td>\n",
       "      <td>...</td>\n",
       "      <td>...</td>\n",
       "      <td>...</td>\n",
       "    </tr>\n",
       "    <tr>\n",
       "      <th>329</th>\n",
       "      <td>0.522065</td>\n",
       "      <td>0.602779</td>\n",
       "      <td>0.280943</td>\n",
       "      <td>0.656950</td>\n",
       "      <td>0.725759</td>\n",
       "    </tr>\n",
       "    <tr>\n",
       "      <th>330</th>\n",
       "      <td>0.966015</td>\n",
       "      <td>0.999332</td>\n",
       "      <td>0.695016</td>\n",
       "      <td>0.517839</td>\n",
       "      <td>0.428819</td>\n",
       "    </tr>\n",
       "    <tr>\n",
       "      <th>331</th>\n",
       "      <td>0.110887</td>\n",
       "      <td>0.706553</td>\n",
       "      <td>0.422516</td>\n",
       "      <td>0.488674</td>\n",
       "      <td>0.184112</td>\n",
       "    </tr>\n",
       "    <tr>\n",
       "      <th>332</th>\n",
       "      <td>0.885882</td>\n",
       "      <td>0.919726</td>\n",
       "      <td>0.705123</td>\n",
       "      <td>0.892756</td>\n",
       "      <td>0.834389</td>\n",
       "    </tr>\n",
       "    <tr>\n",
       "      <th>333</th>\n",
       "      <td>0.369656</td>\n",
       "      <td>0.445310</td>\n",
       "      <td>0.806600</td>\n",
       "      <td>0.457328</td>\n",
       "      <td>0.651120</td>\n",
       "    </tr>\n",
       "  </tbody>\n",
       "</table>\n",
       "<p>334 rows × 5 columns</p>\n",
       "</div>"
      ],
      "text/plain": [
       "            0         1         2         3         4\n",
       "0    0.999646  0.041808  0.145118  0.707398  0.762646\n",
       "1    0.285439  0.508386  0.681820  0.362834  0.365149\n",
       "2    0.822592  0.834434  0.466523  0.842519  0.956287\n",
       "3    0.382259  0.477288  0.717101  0.234430  0.833142\n",
       "4    0.165921  0.089459  0.804111  0.658834  0.791350\n",
       "..        ...       ...       ...       ...       ...\n",
       "329  0.522065  0.602779  0.280943  0.656950  0.725759\n",
       "330  0.966015  0.999332  0.695016  0.517839  0.428819\n",
       "331  0.110887  0.706553  0.422516  0.488674  0.184112\n",
       "332  0.885882  0.919726  0.705123  0.892756  0.834389\n",
       "333  0.369656  0.445310  0.806600  0.457328  0.651120\n",
       "\n",
       "[334 rows x 5 columns]"
      ]
     },
     "execution_count": 61,
     "metadata": {},
     "output_type": "execute_result"
    }
   ],
   "source": [
    "newdf"
   ]
  },
  {
   "cell_type": "code",
   "execution_count": 62,
   "id": "09ecfd20",
   "metadata": {},
   "outputs": [
    {
     "data": {
      "text/html": [
       "<div>\n",
       "<style scoped>\n",
       "    .dataframe tbody tr th:only-of-type {\n",
       "        vertical-align: middle;\n",
       "    }\n",
       "\n",
       "    .dataframe tbody tr th {\n",
       "        vertical-align: top;\n",
       "    }\n",
       "\n",
       "    .dataframe thead th {\n",
       "        text-align: right;\n",
       "    }\n",
       "</style>\n",
       "<table border=\"1\" class=\"dataframe\">\n",
       "  <thead>\n",
       "    <tr style=\"text-align: right;\">\n",
       "      <th></th>\n",
       "      <th>0</th>\n",
       "      <th>1</th>\n",
       "      <th>2</th>\n",
       "      <th>3</th>\n",
       "      <th>4</th>\n",
       "    </tr>\n",
       "  </thead>\n",
       "  <tbody>\n",
       "    <tr>\n",
       "      <th>0</th>\n",
       "      <td>0.999646</td>\n",
       "      <td>0.041808</td>\n",
       "      <td>0.145118</td>\n",
       "      <td>0.707398</td>\n",
       "      <td>0.762646</td>\n",
       "    </tr>\n",
       "    <tr>\n",
       "      <th>1</th>\n",
       "      <td>0.285439</td>\n",
       "      <td>0.508386</td>\n",
       "      <td>0.681820</td>\n",
       "      <td>0.362834</td>\n",
       "      <td>0.365149</td>\n",
       "    </tr>\n",
       "    <tr>\n",
       "      <th>2</th>\n",
       "      <td>0.822592</td>\n",
       "      <td>0.834434</td>\n",
       "      <td>0.466523</td>\n",
       "      <td>0.842519</td>\n",
       "      <td>0.956287</td>\n",
       "    </tr>\n",
       "    <tr>\n",
       "      <th>3</th>\n",
       "      <td>0.382259</td>\n",
       "      <td>0.477288</td>\n",
       "      <td>0.717101</td>\n",
       "      <td>0.234430</td>\n",
       "      <td>0.833142</td>\n",
       "    </tr>\n",
       "    <tr>\n",
       "      <th>4</th>\n",
       "      <td>0.165921</td>\n",
       "      <td>0.089459</td>\n",
       "      <td>0.804111</td>\n",
       "      <td>0.658834</td>\n",
       "      <td>0.791350</td>\n",
       "    </tr>\n",
       "  </tbody>\n",
       "</table>\n",
       "</div>"
      ],
      "text/plain": [
       "          0         1         2         3         4\n",
       "0  0.999646  0.041808  0.145118  0.707398  0.762646\n",
       "1  0.285439  0.508386  0.681820  0.362834  0.365149\n",
       "2  0.822592  0.834434  0.466523  0.842519  0.956287\n",
       "3  0.382259  0.477288  0.717101  0.234430  0.833142\n",
       "4  0.165921  0.089459  0.804111  0.658834  0.791350"
      ]
     },
     "execution_count": 62,
     "metadata": {},
     "output_type": "execute_result"
    }
   ],
   "source": [
    "newdf.head()"
   ]
  },
  {
   "cell_type": "code",
   "execution_count": 63,
   "id": "3416d8eb",
   "metadata": {},
   "outputs": [
    {
     "data": {
      "text/html": [
       "<div>\n",
       "<style scoped>\n",
       "    .dataframe tbody tr th:only-of-type {\n",
       "        vertical-align: middle;\n",
       "    }\n",
       "\n",
       "    .dataframe tbody tr th {\n",
       "        vertical-align: top;\n",
       "    }\n",
       "\n",
       "    .dataframe thead th {\n",
       "        text-align: right;\n",
       "    }\n",
       "</style>\n",
       "<table border=\"1\" class=\"dataframe\">\n",
       "  <thead>\n",
       "    <tr style=\"text-align: right;\">\n",
       "      <th></th>\n",
       "      <th>0</th>\n",
       "      <th>1</th>\n",
       "      <th>2</th>\n",
       "      <th>3</th>\n",
       "      <th>4</th>\n",
       "    </tr>\n",
       "  </thead>\n",
       "  <tbody>\n",
       "    <tr>\n",
       "      <th>329</th>\n",
       "      <td>0.522065</td>\n",
       "      <td>0.602779</td>\n",
       "      <td>0.280943</td>\n",
       "      <td>0.656950</td>\n",
       "      <td>0.725759</td>\n",
       "    </tr>\n",
       "    <tr>\n",
       "      <th>330</th>\n",
       "      <td>0.966015</td>\n",
       "      <td>0.999332</td>\n",
       "      <td>0.695016</td>\n",
       "      <td>0.517839</td>\n",
       "      <td>0.428819</td>\n",
       "    </tr>\n",
       "    <tr>\n",
       "      <th>331</th>\n",
       "      <td>0.110887</td>\n",
       "      <td>0.706553</td>\n",
       "      <td>0.422516</td>\n",
       "      <td>0.488674</td>\n",
       "      <td>0.184112</td>\n",
       "    </tr>\n",
       "    <tr>\n",
       "      <th>332</th>\n",
       "      <td>0.885882</td>\n",
       "      <td>0.919726</td>\n",
       "      <td>0.705123</td>\n",
       "      <td>0.892756</td>\n",
       "      <td>0.834389</td>\n",
       "    </tr>\n",
       "    <tr>\n",
       "      <th>333</th>\n",
       "      <td>0.369656</td>\n",
       "      <td>0.445310</td>\n",
       "      <td>0.806600</td>\n",
       "      <td>0.457328</td>\n",
       "      <td>0.651120</td>\n",
       "    </tr>\n",
       "  </tbody>\n",
       "</table>\n",
       "</div>"
      ],
      "text/plain": [
       "            0         1         2         3         4\n",
       "329  0.522065  0.602779  0.280943  0.656950  0.725759\n",
       "330  0.966015  0.999332  0.695016  0.517839  0.428819\n",
       "331  0.110887  0.706553  0.422516  0.488674  0.184112\n",
       "332  0.885882  0.919726  0.705123  0.892756  0.834389\n",
       "333  0.369656  0.445310  0.806600  0.457328  0.651120"
      ]
     },
     "execution_count": 63,
     "metadata": {},
     "output_type": "execute_result"
    }
   ],
   "source": [
    "newdf.tail()"
   ]
  },
  {
   "cell_type": "code",
   "execution_count": 64,
   "id": "583e34a0",
   "metadata": {},
   "outputs": [
    {
     "data": {
      "text/plain": [
       "pandas.core.frame.DataFrame"
      ]
     },
     "execution_count": 64,
     "metadata": {},
     "output_type": "execute_result"
    }
   ],
   "source": [
    "type(newdf)"
   ]
  },
  {
   "cell_type": "code",
   "execution_count": 65,
   "id": "6df53799",
   "metadata": {},
   "outputs": [
    {
     "data": {
      "text/plain": [
       "0    float64\n",
       "1    float64\n",
       "2    float64\n",
       "3    float64\n",
       "4    float64\n",
       "dtype: object"
      ]
     },
     "execution_count": 65,
     "metadata": {},
     "output_type": "execute_result"
    }
   ],
   "source": [
    "newdf.dtypes"
   ]
  },
  {
   "cell_type": "code",
   "execution_count": 66,
   "id": "5f74a322",
   "metadata": {},
   "outputs": [
    {
     "data": {
      "text/plain": [
       "2"
      ]
     },
     "execution_count": 66,
     "metadata": {},
     "output_type": "execute_result"
    }
   ],
   "source": [
    "newdf.ndim"
   ]
  },
  {
   "cell_type": "code",
   "execution_count": 67,
   "id": "6b87cf96",
   "metadata": {},
   "outputs": [
    {
     "data": {
      "text/plain": [
       "(334, 5)"
      ]
     },
     "execution_count": 67,
     "metadata": {},
     "output_type": "execute_result"
    }
   ],
   "source": [
    "newdf.shape"
   ]
  },
  {
   "cell_type": "code",
   "execution_count": 68,
   "id": "af9c4071",
   "metadata": {},
   "outputs": [
    {
     "data": {
      "text/plain": [
       "Int64Index([  0,   1,   2,   3,   4,   5,   6,   7,   8,   9,\n",
       "            ...\n",
       "            324, 325, 326, 327, 328, 329, 330, 331, 332, 333],\n",
       "           dtype='int64', length=334)"
      ]
     },
     "execution_count": 68,
     "metadata": {},
     "output_type": "execute_result"
    }
   ],
   "source": [
    "newdf.index"
   ]
  },
  {
   "cell_type": "code",
   "execution_count": 69,
   "id": "c134fd24",
   "metadata": {},
   "outputs": [
    {
     "data": {
      "text/plain": [
       "RangeIndex(start=0, stop=5, step=1)"
      ]
     },
     "execution_count": 69,
     "metadata": {},
     "output_type": "execute_result"
    }
   ],
   "source": [
    "newdf.columns"
   ]
  },
  {
   "cell_type": "code",
   "execution_count": 70,
   "id": "237e22c2",
   "metadata": {},
   "outputs": [
    {
     "data": {
      "text/plain": [
       "0.9996455505874339"
      ]
     },
     "execution_count": 70,
     "metadata": {},
     "output_type": "execute_result"
    }
   ],
   "source": [
    "newdf[0][0]"
   ]
  },
  {
   "cell_type": "code",
   "execution_count": 71,
   "id": "8f3ee14e",
   "metadata": {},
   "outputs": [],
   "source": [
    "newdf[0][0] = 'Mabtoor'"
   ]
  },
  {
   "cell_type": "code",
   "execution_count": 73,
   "id": "be2abd15",
   "metadata": {},
   "outputs": [
    {
     "data": {
      "text/plain": [
       "pandas.core.frame.DataFrame"
      ]
     },
     "execution_count": 73,
     "metadata": {},
     "output_type": "execute_result"
    }
   ],
   "source": [
    "type(newdf)"
   ]
  },
  {
   "cell_type": "code",
   "execution_count": 74,
   "id": "64a2f714",
   "metadata": {},
   "outputs": [
    {
     "data": {
      "text/plain": [
       "array([['Mabtoor', 0.04180828757569144, 0.1451181281020797,\n",
       "        0.7073979625819873, 0.7626464447784431],\n",
       "       [0.2854392535736936, 0.5083857604228111, 0.6818201146259826,\n",
       "        0.36283361915497003, 0.36514891440618225],\n",
       "       [0.8225923263506286, 0.8344340898830527, 0.4665228735958543,\n",
       "        0.8425188936030851, 0.9562871050001898],\n",
       "       ...,\n",
       "       [0.11088667710009181, 0.7065529479680895, 0.4225163524343617,\n",
       "        0.4886735858275265, 0.18411220683122786],\n",
       "       [0.8858823909061146, 0.9197259006125696, 0.7051229270562259,\n",
       "        0.892756161694062, 0.8343893435116961],\n",
       "       [0.36965565988142013, 0.4453098202763468, 0.8065996647595678,\n",
       "        0.45732796619060445, 0.6511202986898798]], dtype=object)"
      ]
     },
     "execution_count": 74,
     "metadata": {},
     "output_type": "execute_result"
    }
   ],
   "source": [
    "newdf.to_numpy()"
   ]
  },
  {
   "cell_type": "code",
   "execution_count": 75,
   "id": "492db100",
   "metadata": {},
   "outputs": [
    {
     "data": {
      "text/html": [
       "<div>\n",
       "<style scoped>\n",
       "    .dataframe tbody tr th:only-of-type {\n",
       "        vertical-align: middle;\n",
       "    }\n",
       "\n",
       "    .dataframe tbody tr th {\n",
       "        vertical-align: top;\n",
       "    }\n",
       "\n",
       "    .dataframe thead th {\n",
       "        text-align: right;\n",
       "    }\n",
       "</style>\n",
       "<table border=\"1\" class=\"dataframe\">\n",
       "  <thead>\n",
       "    <tr style=\"text-align: right;\">\n",
       "      <th></th>\n",
       "      <th>0</th>\n",
       "      <th>1</th>\n",
       "      <th>2</th>\n",
       "      <th>3</th>\n",
       "      <th>4</th>\n",
       "      <th>5</th>\n",
       "      <th>6</th>\n",
       "      <th>7</th>\n",
       "      <th>8</th>\n",
       "      <th>9</th>\n",
       "      <th>...</th>\n",
       "      <th>324</th>\n",
       "      <th>325</th>\n",
       "      <th>326</th>\n",
       "      <th>327</th>\n",
       "      <th>328</th>\n",
       "      <th>329</th>\n",
       "      <th>330</th>\n",
       "      <th>331</th>\n",
       "      <th>332</th>\n",
       "      <th>333</th>\n",
       "    </tr>\n",
       "  </thead>\n",
       "  <tbody>\n",
       "    <tr>\n",
       "      <th>0</th>\n",
       "      <td>Mabtoor</td>\n",
       "      <td>0.285439</td>\n",
       "      <td>0.822592</td>\n",
       "      <td>0.382259</td>\n",
       "      <td>0.165921</td>\n",
       "      <td>0.360657</td>\n",
       "      <td>0.927623</td>\n",
       "      <td>0.821911</td>\n",
       "      <td>0.099581</td>\n",
       "      <td>0.364988</td>\n",
       "      <td>...</td>\n",
       "      <td>0.130685</td>\n",
       "      <td>0.577232</td>\n",
       "      <td>0.617656</td>\n",
       "      <td>0.68584</td>\n",
       "      <td>0.701432</td>\n",
       "      <td>0.522065</td>\n",
       "      <td>0.966015</td>\n",
       "      <td>0.110887</td>\n",
       "      <td>0.885882</td>\n",
       "      <td>0.369656</td>\n",
       "    </tr>\n",
       "    <tr>\n",
       "      <th>1</th>\n",
       "      <td>0.041808</td>\n",
       "      <td>0.508386</td>\n",
       "      <td>0.834434</td>\n",
       "      <td>0.477288</td>\n",
       "      <td>0.089459</td>\n",
       "      <td>0.047411</td>\n",
       "      <td>0.339323</td>\n",
       "      <td>0.024563</td>\n",
       "      <td>0.880494</td>\n",
       "      <td>0.725147</td>\n",
       "      <td>...</td>\n",
       "      <td>0.703367</td>\n",
       "      <td>0.157798</td>\n",
       "      <td>0.931134</td>\n",
       "      <td>0.830485</td>\n",
       "      <td>0.169679</td>\n",
       "      <td>0.602779</td>\n",
       "      <td>0.999332</td>\n",
       "      <td>0.706553</td>\n",
       "      <td>0.919726</td>\n",
       "      <td>0.44531</td>\n",
       "    </tr>\n",
       "    <tr>\n",
       "      <th>2</th>\n",
       "      <td>0.145118</td>\n",
       "      <td>0.68182</td>\n",
       "      <td>0.466523</td>\n",
       "      <td>0.717101</td>\n",
       "      <td>0.804111</td>\n",
       "      <td>0.882068</td>\n",
       "      <td>0.422831</td>\n",
       "      <td>0.024125</td>\n",
       "      <td>0.52053</td>\n",
       "      <td>0.713093</td>\n",
       "      <td>...</td>\n",
       "      <td>0.079856</td>\n",
       "      <td>0.961148</td>\n",
       "      <td>0.853122</td>\n",
       "      <td>0.814662</td>\n",
       "      <td>0.223855</td>\n",
       "      <td>0.280943</td>\n",
       "      <td>0.695016</td>\n",
       "      <td>0.422516</td>\n",
       "      <td>0.705123</td>\n",
       "      <td>0.8066</td>\n",
       "    </tr>\n",
       "    <tr>\n",
       "      <th>3</th>\n",
       "      <td>0.707398</td>\n",
       "      <td>0.362834</td>\n",
       "      <td>0.842519</td>\n",
       "      <td>0.23443</td>\n",
       "      <td>0.658834</td>\n",
       "      <td>0.206185</td>\n",
       "      <td>0.285196</td>\n",
       "      <td>0.396161</td>\n",
       "      <td>0.996553</td>\n",
       "      <td>0.964094</td>\n",
       "      <td>...</td>\n",
       "      <td>0.628189</td>\n",
       "      <td>0.167126</td>\n",
       "      <td>0.164187</td>\n",
       "      <td>0.144387</td>\n",
       "      <td>0.156317</td>\n",
       "      <td>0.65695</td>\n",
       "      <td>0.517839</td>\n",
       "      <td>0.488674</td>\n",
       "      <td>0.892756</td>\n",
       "      <td>0.457328</td>\n",
       "    </tr>\n",
       "    <tr>\n",
       "      <th>4</th>\n",
       "      <td>0.762646</td>\n",
       "      <td>0.365149</td>\n",
       "      <td>0.956287</td>\n",
       "      <td>0.833142</td>\n",
       "      <td>0.79135</td>\n",
       "      <td>0.231588</td>\n",
       "      <td>0.038505</td>\n",
       "      <td>0.793717</td>\n",
       "      <td>0.8449</td>\n",
       "      <td>0.003305</td>\n",
       "      <td>...</td>\n",
       "      <td>0.200677</td>\n",
       "      <td>0.81029</td>\n",
       "      <td>0.057955</td>\n",
       "      <td>0.654408</td>\n",
       "      <td>0.750726</td>\n",
       "      <td>0.725759</td>\n",
       "      <td>0.428819</td>\n",
       "      <td>0.184112</td>\n",
       "      <td>0.834389</td>\n",
       "      <td>0.65112</td>\n",
       "    </tr>\n",
       "  </tbody>\n",
       "</table>\n",
       "<p>5 rows × 334 columns</p>\n",
       "</div>"
      ],
      "text/plain": [
       "        0         1         2         3         4         5         6    \\\n",
       "0   Mabtoor  0.285439  0.822592  0.382259  0.165921  0.360657  0.927623   \n",
       "1  0.041808  0.508386  0.834434  0.477288  0.089459  0.047411  0.339323   \n",
       "2  0.145118   0.68182  0.466523  0.717101  0.804111  0.882068  0.422831   \n",
       "3  0.707398  0.362834  0.842519   0.23443  0.658834  0.206185  0.285196   \n",
       "4  0.762646  0.365149  0.956287  0.833142   0.79135  0.231588  0.038505   \n",
       "\n",
       "        7         8         9    ...       324       325       326       327  \\\n",
       "0  0.821911  0.099581  0.364988  ...  0.130685  0.577232  0.617656   0.68584   \n",
       "1  0.024563  0.880494  0.725147  ...  0.703367  0.157798  0.931134  0.830485   \n",
       "2  0.024125   0.52053  0.713093  ...  0.079856  0.961148  0.853122  0.814662   \n",
       "3  0.396161  0.996553  0.964094  ...  0.628189  0.167126  0.164187  0.144387   \n",
       "4  0.793717    0.8449  0.003305  ...  0.200677   0.81029  0.057955  0.654408   \n",
       "\n",
       "        328       329       330       331       332       333  \n",
       "0  0.701432  0.522065  0.966015  0.110887  0.885882  0.369656  \n",
       "1  0.169679  0.602779  0.999332  0.706553  0.919726   0.44531  \n",
       "2  0.223855  0.280943  0.695016  0.422516  0.705123    0.8066  \n",
       "3  0.156317   0.65695  0.517839  0.488674  0.892756  0.457328  \n",
       "4  0.750726  0.725759  0.428819  0.184112  0.834389   0.65112  \n",
       "\n",
       "[5 rows x 334 columns]"
      ]
     },
     "execution_count": 75,
     "metadata": {},
     "output_type": "execute_result"
    }
   ],
   "source": [
    "newdf.T"
   ]
  },
  {
   "cell_type": "code",
   "execution_count": null,
   "id": "1e360631",
   "metadata": {},
   "outputs": [],
   "source": []
  }
 ],
 "metadata": {
  "kernelspec": {
   "display_name": "Python 3",
   "language": "python",
   "name": "python3"
  },
  "language_info": {
   "codemirror_mode": {
    "name": "ipython",
    "version": 3
   },
   "file_extension": ".py",
   "mimetype": "text/x-python",
   "name": "python",
   "nbconvert_exporter": "python",
   "pygments_lexer": "ipython3",
   "version": "3.8.8"
  }
 },
 "nbformat": 4,
 "nbformat_minor": 5
}
